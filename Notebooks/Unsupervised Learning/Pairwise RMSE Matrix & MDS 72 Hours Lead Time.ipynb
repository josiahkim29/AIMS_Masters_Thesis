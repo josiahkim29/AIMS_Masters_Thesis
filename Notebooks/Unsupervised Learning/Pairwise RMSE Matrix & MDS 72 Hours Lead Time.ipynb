{
 "cells": [
  {
   "cell_type": "code",
   "execution_count": null,
   "metadata": {
    "colab": {
     "base_uri": "https://localhost:8080/"
    },
    "executionInfo": {
     "elapsed": 22376,
     "status": "ok",
     "timestamp": 1749646523305,
     "user": {
      "displayName": "Josiah Kiarie KIMANI",
      "userId": "14842758841059902092"
     },
     "user_tz": -120
    },
    "id": "u0PKHKv4556f",
    "outputId": "fb519f6d-6a15-4449-fb57-578244a0375d"
   },
   "outputs": [
    {
     "name": "stdout",
     "output_type": "stream",
     "text": [
      "Requirement already satisfied: scikit-learn in /usr/local/lib/python3.11/dist-packages (1.6.1)\n",
      "Collecting scikit-learn\n",
      "  Downloading scikit_learn-1.7.0-cp311-cp311-manylinux_2_17_x86_64.manylinux2014_x86_64.whl.metadata (17 kB)\n",
      "Requirement already satisfied: numpy>=1.22.0 in /usr/local/lib/python3.11/dist-packages (from scikit-learn) (2.0.2)\n",
      "Requirement already satisfied: scipy>=1.8.0 in /usr/local/lib/python3.11/dist-packages (from scikit-learn) (1.15.3)\n",
      "Requirement already satisfied: joblib>=1.2.0 in /usr/local/lib/python3.11/dist-packages (from scikit-learn) (1.5.1)\n",
      "Requirement already satisfied: threadpoolctl>=3.1.0 in /usr/local/lib/python3.11/dist-packages (from scikit-learn) (3.6.0)\n",
      "Downloading scikit_learn-1.7.0-cp311-cp311-manylinux_2_17_x86_64.manylinux2014_x86_64.whl (12.9 MB)\n",
      "\u001b[2K   \u001b[90m━━━━━━━━━━━━━━━━━━━━━━━━━━━━━━━━━━━━━━━━\u001b[0m \u001b[32m12.9/12.9 MB\u001b[0m \u001b[31m16.9 MB/s\u001b[0m eta \u001b[36m0:00:00\u001b[0m\n",
      "\u001b[?25hInstalling collected packages: scikit-learn\n",
      "  Attempting uninstall: scikit-learn\n",
      "    Found existing installation: scikit-learn 1.6.1\n",
      "    Uninstalling scikit-learn-1.6.1:\n",
      "      Successfully uninstalled scikit-learn-1.6.1\n",
      "\u001b[31mERROR: pip's dependency resolver does not currently take into account all the packages that are installed. This behaviour is the source of the following dependency conflicts.\n",
      "sklearn-compat 0.1.3 requires scikit-learn<1.7,>=1.2, but you have scikit-learn 1.7.0 which is incompatible.\u001b[0m\u001b[31m\n",
      "\u001b[0mSuccessfully installed scikit-learn-1.7.0\n"
     ]
    }
   ],
   "source": [
    "# @author: Josiah Kimani\n",
    "# @date: 2025-06-12\n",
    "# @description: This script installs the required packages\n",
    "# Sklearn version 1.7.0 supports normalized stress for metric MDS while earlier versions dont.\n",
    "# Restart session\n",
    "!pip install --upgrade scikit-learn"
   ]
  },
  {
   "cell_type": "code",
   "execution_count": null,
   "metadata": {
    "colab": {
     "base_uri": "https://localhost:8080/"
    },
    "executionInfo": {
     "elapsed": 1650,
     "status": "ok",
     "timestamp": 1749646524963,
     "user": {
      "displayName": "Josiah Kiarie KIMANI",
      "userId": "14842758841059902092"
     },
     "user_tz": -120
    },
    "id": "RwyXHUtA6AaR",
    "outputId": "2122c1c7-063c-458b-e0b5-6d973909b3a2"
   },
   "outputs": [
    {
     "name": "stdout",
     "output_type": "stream",
     "text": [
      "1.7.0\n"
     ]
    }
   ],
   "source": [
    "# Verify the installation\n",
    "import sklearn\n",
    "print(sklearn.__version__)"
   ]
  },
  {
   "cell_type": "code",
   "execution_count": null,
   "metadata": {
    "colab": {
     "base_uri": "https://localhost:8080/"
    },
    "executionInfo": {
     "elapsed": 28729,
     "status": "ok",
     "timestamp": 1749646557736,
     "user": {
      "displayName": "Josiah Kiarie KIMANI",
      "userId": "14842758841059902092"
     },
     "user_tz": -120
    },
    "id": "9lWUZlPEOpZJ",
    "outputId": "d663a999-1349-4dfe-a979-65230296c28a"
   },
   "outputs": [
    {
     "name": "stdout",
     "output_type": "stream",
     "text": [
      "Mounted at /content/drive\n"
     ]
    }
   ],
   "source": [
    "# @title Drive\n",
    "# Mount Google Drive to access data and save plots\n",
    "from google.colab import drive\n",
    "drive.mount('/content/drive')\n",
    "\n",
    "# Define paths for data and plots\n",
    "# Ensure these paths exist in your Google Drive\n",
    "data_drive_path = \"/content/drive/MyDrive/MastersProject/Data/\"\n",
    "data_drive_plot = \"/content/drive/MyDrive/MastersProject/Plots/\"\n",
    "\n"
   ]
  },
  {
   "cell_type": "code",
   "execution_count": null,
   "metadata": {
    "executionInfo": {
     "elapsed": 1195,
     "status": "ok",
     "timestamp": 1749646568440,
     "user": {
      "displayName": "Josiah Kiarie KIMANI",
      "userId": "14842758841059902092"
     },
     "user_tz": -120
    },
    "id": "GstdywuzFgls"
   },
   "outputs": [],
   "source": [
    "# @title Import Libraries\n",
    "# Import necessary libraries for data processing, analysis, and visualization\n",
    "\n",
    "# Data processing and analysis\n",
    "import xarray as xr\n",
    "import numpy as np\n",
    "import pandas as pd\n",
    "import joblib\n",
    "\n",
    "# Plotting\n",
    "import matplotlib.pyplot as plt\n",
    "import seaborn as sns\n",
    "\n",
    "# Aesthetics\n",
    "sns.set_theme(style=\"whitegrid\")\n",
    "plt.rc('axes', titlesize=12, labelsize=10)\n",
    "plt.rc('xtick', labelsize=10)\n",
    "plt.rc('ytick', labelsize=10)"
   ]
  },
  {
   "cell_type": "code",
   "execution_count": null,
   "metadata": {
    "colab": {
     "base_uri": "https://localhost:8080/",
     "height": 223
    },
    "executionInfo": {
     "elapsed": 5220,
     "status": "ok",
     "timestamp": 1749646575905,
     "user": {
      "displayName": "Josiah Kiarie KIMANI",
      "userId": "14842758841059902092"
     },
     "user_tz": -120
    },
    "id": "jKkFLRvUe6Kv",
    "outputId": "b6016c85-f2ad-4b3a-919e-515a0aea451e"
   },
   "outputs": [
    {
     "name": "stdout",
     "output_type": "stream",
     "text": [
      "Merged_datasets size:(1499136, 7) \n"
     ]
    },
    {
     "data": {
      "application/vnd.google.colaboratory.intrinsic+json": {
       "type": "dataframe",
       "variable_name": "merged_datasets"
      },
      "text/html": [
       "\n",
       "  <div id=\"df-4d30b609-ad31-4c5e-a256-3d1d7677cfea\" class=\"colab-df-container\">\n",
       "    <div>\n",
       "<style scoped>\n",
       "    .dataframe tbody tr th:only-of-type {\n",
       "        vertical-align: middle;\n",
       "    }\n",
       "\n",
       "    .dataframe tbody tr th {\n",
       "        vertical-align: top;\n",
       "    }\n",
       "\n",
       "    .dataframe thead th {\n",
       "        text-align: right;\n",
       "    }\n",
       "</style>\n",
       "<table border=\"1\" class=\"dataframe\">\n",
       "  <thead>\n",
       "    <tr style=\"text-align: right;\">\n",
       "      <th></th>\n",
       "      <th>time</th>\n",
       "      <th>longitude</th>\n",
       "      <th>latitude</th>\n",
       "      <th>graphcast</th>\n",
       "      <th>pangu</th>\n",
       "      <th>neuralgcm</th>\n",
       "      <th>ifshres</th>\n",
       "    </tr>\n",
       "  </thead>\n",
       "  <tbody>\n",
       "    <tr>\n",
       "      <th>0</th>\n",
       "      <td>2020-01-04</td>\n",
       "      <td>0.0</td>\n",
       "      <td>-87.1875</td>\n",
       "      <td>49969.980469</td>\n",
       "      <td>49928.015625</td>\n",
       "      <td>50061.421875</td>\n",
       "      <td>50103.640625</td>\n",
       "    </tr>\n",
       "    <tr>\n",
       "      <th>1</th>\n",
       "      <td>2020-01-04</td>\n",
       "      <td>0.0</td>\n",
       "      <td>-81.5625</td>\n",
       "      <td>50197.351562</td>\n",
       "      <td>50232.875000</td>\n",
       "      <td>50227.707031</td>\n",
       "      <td>50357.289062</td>\n",
       "    </tr>\n",
       "    <tr>\n",
       "      <th>2</th>\n",
       "      <td>2020-01-04</td>\n",
       "      <td>0.0</td>\n",
       "      <td>-75.9375</td>\n",
       "      <td>50326.664062</td>\n",
       "      <td>50367.367188</td>\n",
       "      <td>50305.351562</td>\n",
       "      <td>50433.640625</td>\n",
       "    </tr>\n",
       "    <tr>\n",
       "      <th>3</th>\n",
       "      <td>2020-01-04</td>\n",
       "      <td>0.0</td>\n",
       "      <td>-70.3125</td>\n",
       "      <td>50008.304688</td>\n",
       "      <td>50005.089844</td>\n",
       "      <td>49969.562500</td>\n",
       "      <td>50055.031250</td>\n",
       "    </tr>\n",
       "    <tr>\n",
       "      <th>4</th>\n",
       "      <td>2020-01-04</td>\n",
       "      <td>0.0</td>\n",
       "      <td>-64.6875</td>\n",
       "      <td>49281.628906</td>\n",
       "      <td>49232.839844</td>\n",
       "      <td>49214.851562</td>\n",
       "      <td>49303.812500</td>\n",
       "    </tr>\n",
       "  </tbody>\n",
       "</table>\n",
       "</div>\n",
       "    <div class=\"colab-df-buttons\">\n",
       "\n",
       "  <div class=\"colab-df-container\">\n",
       "    <button class=\"colab-df-convert\" onclick=\"convertToInteractive('df-4d30b609-ad31-4c5e-a256-3d1d7677cfea')\"\n",
       "            title=\"Convert this dataframe to an interactive table.\"\n",
       "            style=\"display:none;\">\n",
       "\n",
       "  <svg xmlns=\"http://www.w3.org/2000/svg\" height=\"24px\" viewBox=\"0 -960 960 960\">\n",
       "    <path d=\"M120-120v-720h720v720H120Zm60-500h600v-160H180v160Zm220 220h160v-160H400v160Zm0 220h160v-160H400v160ZM180-400h160v-160H180v160Zm440 0h160v-160H620v160ZM180-180h160v-160H180v160Zm440 0h160v-160H620v160Z\"/>\n",
       "  </svg>\n",
       "    </button>\n",
       "\n",
       "  <style>\n",
       "    .colab-df-container {\n",
       "      display:flex;\n",
       "      gap: 12px;\n",
       "    }\n",
       "\n",
       "    .colab-df-convert {\n",
       "      background-color: #E8F0FE;\n",
       "      border: none;\n",
       "      border-radius: 50%;\n",
       "      cursor: pointer;\n",
       "      display: none;\n",
       "      fill: #1967D2;\n",
       "      height: 32px;\n",
       "      padding: 0 0 0 0;\n",
       "      width: 32px;\n",
       "    }\n",
       "\n",
       "    .colab-df-convert:hover {\n",
       "      background-color: #E2EBFA;\n",
       "      box-shadow: 0px 1px 2px rgba(60, 64, 67, 0.3), 0px 1px 3px 1px rgba(60, 64, 67, 0.15);\n",
       "      fill: #174EA6;\n",
       "    }\n",
       "\n",
       "    .colab-df-buttons div {\n",
       "      margin-bottom: 4px;\n",
       "    }\n",
       "\n",
       "    [theme=dark] .colab-df-convert {\n",
       "      background-color: #3B4455;\n",
       "      fill: #D2E3FC;\n",
       "    }\n",
       "\n",
       "    [theme=dark] .colab-df-convert:hover {\n",
       "      background-color: #434B5C;\n",
       "      box-shadow: 0px 1px 3px 1px rgba(0, 0, 0, 0.15);\n",
       "      filter: drop-shadow(0px 1px 2px rgba(0, 0, 0, 0.3));\n",
       "      fill: #FFFFFF;\n",
       "    }\n",
       "  </style>\n",
       "\n",
       "    <script>\n",
       "      const buttonEl =\n",
       "        document.querySelector('#df-4d30b609-ad31-4c5e-a256-3d1d7677cfea button.colab-df-convert');\n",
       "      buttonEl.style.display =\n",
       "        google.colab.kernel.accessAllowed ? 'block' : 'none';\n",
       "\n",
       "      async function convertToInteractive(key) {\n",
       "        const element = document.querySelector('#df-4d30b609-ad31-4c5e-a256-3d1d7677cfea');\n",
       "        const dataTable =\n",
       "          await google.colab.kernel.invokeFunction('convertToInteractive',\n",
       "                                                    [key], {});\n",
       "        if (!dataTable) return;\n",
       "\n",
       "        const docLinkHtml = 'Like what you see? Visit the ' +\n",
       "          '<a target=\"_blank\" href=https://colab.research.google.com/notebooks/data_table.ipynb>data table notebook</a>'\n",
       "          + ' to learn more about interactive tables.';\n",
       "        element.innerHTML = '';\n",
       "        dataTable['output_type'] = 'display_data';\n",
       "        await google.colab.output.renderOutput(dataTable, element);\n",
       "        const docLink = document.createElement('div');\n",
       "        docLink.innerHTML = docLinkHtml;\n",
       "        element.appendChild(docLink);\n",
       "      }\n",
       "    </script>\n",
       "  </div>\n",
       "\n",
       "\n",
       "    <div id=\"df-8a9367c6-c453-4288-b3d6-2e137fbfda93\">\n",
       "      <button class=\"colab-df-quickchart\" onclick=\"quickchart('df-8a9367c6-c453-4288-b3d6-2e137fbfda93')\"\n",
       "                title=\"Suggest charts\"\n",
       "                style=\"display:none;\">\n",
       "\n",
       "<svg xmlns=\"http://www.w3.org/2000/svg\" height=\"24px\"viewBox=\"0 0 24 24\"\n",
       "     width=\"24px\">\n",
       "    <g>\n",
       "        <path d=\"M19 3H5c-1.1 0-2 .9-2 2v14c0 1.1.9 2 2 2h14c1.1 0 2-.9 2-2V5c0-1.1-.9-2-2-2zM9 17H7v-7h2v7zm4 0h-2V7h2v10zm4 0h-2v-4h2v4z\"/>\n",
       "    </g>\n",
       "</svg>\n",
       "      </button>\n",
       "\n",
       "<style>\n",
       "  .colab-df-quickchart {\n",
       "      --bg-color: #E8F0FE;\n",
       "      --fill-color: #1967D2;\n",
       "      --hover-bg-color: #E2EBFA;\n",
       "      --hover-fill-color: #174EA6;\n",
       "      --disabled-fill-color: #AAA;\n",
       "      --disabled-bg-color: #DDD;\n",
       "  }\n",
       "\n",
       "  [theme=dark] .colab-df-quickchart {\n",
       "      --bg-color: #3B4455;\n",
       "      --fill-color: #D2E3FC;\n",
       "      --hover-bg-color: #434B5C;\n",
       "      --hover-fill-color: #FFFFFF;\n",
       "      --disabled-bg-color: #3B4455;\n",
       "      --disabled-fill-color: #666;\n",
       "  }\n",
       "\n",
       "  .colab-df-quickchart {\n",
       "    background-color: var(--bg-color);\n",
       "    border: none;\n",
       "    border-radius: 50%;\n",
       "    cursor: pointer;\n",
       "    display: none;\n",
       "    fill: var(--fill-color);\n",
       "    height: 32px;\n",
       "    padding: 0;\n",
       "    width: 32px;\n",
       "  }\n",
       "\n",
       "  .colab-df-quickchart:hover {\n",
       "    background-color: var(--hover-bg-color);\n",
       "    box-shadow: 0 1px 2px rgba(60, 64, 67, 0.3), 0 1px 3px 1px rgba(60, 64, 67, 0.15);\n",
       "    fill: var(--button-hover-fill-color);\n",
       "  }\n",
       "\n",
       "  .colab-df-quickchart-complete:disabled,\n",
       "  .colab-df-quickchart-complete:disabled:hover {\n",
       "    background-color: var(--disabled-bg-color);\n",
       "    fill: var(--disabled-fill-color);\n",
       "    box-shadow: none;\n",
       "  }\n",
       "\n",
       "  .colab-df-spinner {\n",
       "    border: 2px solid var(--fill-color);\n",
       "    border-color: transparent;\n",
       "    border-bottom-color: var(--fill-color);\n",
       "    animation:\n",
       "      spin 1s steps(1) infinite;\n",
       "  }\n",
       "\n",
       "  @keyframes spin {\n",
       "    0% {\n",
       "      border-color: transparent;\n",
       "      border-bottom-color: var(--fill-color);\n",
       "      border-left-color: var(--fill-color);\n",
       "    }\n",
       "    20% {\n",
       "      border-color: transparent;\n",
       "      border-left-color: var(--fill-color);\n",
       "      border-top-color: var(--fill-color);\n",
       "    }\n",
       "    30% {\n",
       "      border-color: transparent;\n",
       "      border-left-color: var(--fill-color);\n",
       "      border-top-color: var(--fill-color);\n",
       "      border-right-color: var(--fill-color);\n",
       "    }\n",
       "    40% {\n",
       "      border-color: transparent;\n",
       "      border-right-color: var(--fill-color);\n",
       "      border-top-color: var(--fill-color);\n",
       "    }\n",
       "    60% {\n",
       "      border-color: transparent;\n",
       "      border-right-color: var(--fill-color);\n",
       "    }\n",
       "    80% {\n",
       "      border-color: transparent;\n",
       "      border-right-color: var(--fill-color);\n",
       "      border-bottom-color: var(--fill-color);\n",
       "    }\n",
       "    90% {\n",
       "      border-color: transparent;\n",
       "      border-bottom-color: var(--fill-color);\n",
       "    }\n",
       "  }\n",
       "</style>\n",
       "\n",
       "      <script>\n",
       "        async function quickchart(key) {\n",
       "          const quickchartButtonEl =\n",
       "            document.querySelector('#' + key + ' button');\n",
       "          quickchartButtonEl.disabled = true;  // To prevent multiple clicks.\n",
       "          quickchartButtonEl.classList.add('colab-df-spinner');\n",
       "          try {\n",
       "            const charts = await google.colab.kernel.invokeFunction(\n",
       "                'suggestCharts', [key], {});\n",
       "          } catch (error) {\n",
       "            console.error('Error during call to suggestCharts:', error);\n",
       "          }\n",
       "          quickchartButtonEl.classList.remove('colab-df-spinner');\n",
       "          quickchartButtonEl.classList.add('colab-df-quickchart-complete');\n",
       "        }\n",
       "        (() => {\n",
       "          let quickchartButtonEl =\n",
       "            document.querySelector('#df-8a9367c6-c453-4288-b3d6-2e137fbfda93 button');\n",
       "          quickchartButtonEl.style.display =\n",
       "            google.colab.kernel.accessAllowed ? 'block' : 'none';\n",
       "        })();\n",
       "      </script>\n",
       "    </div>\n",
       "\n",
       "    </div>\n",
       "  </div>\n"
      ],
      "text/plain": [
       "        time  longitude  latitude     graphcast         pangu     neuralgcm  \\\n",
       "0 2020-01-04        0.0  -87.1875  49969.980469  49928.015625  50061.421875   \n",
       "1 2020-01-04        0.0  -81.5625  50197.351562  50232.875000  50227.707031   \n",
       "2 2020-01-04        0.0  -75.9375  50326.664062  50367.367188  50305.351562   \n",
       "3 2020-01-04        0.0  -70.3125  50008.304688  50005.089844  49969.562500   \n",
       "4 2020-01-04        0.0  -64.6875  49281.628906  49232.839844  49214.851562   \n",
       "\n",
       "        ifshres  \n",
       "0  50103.640625  \n",
       "1  50357.289062  \n",
       "2  50433.640625  \n",
       "3  50055.031250  \n",
       "4  49303.812500  "
      ]
     },
     "execution_count": 5,
     "metadata": {},
     "output_type": "execute_result"
    }
   ],
   "source": [
    "# @title Loading Data\n",
    "# Load the merged datasets from the specified path\n",
    "# Ensure the file exists in the specified path\n",
    "merged_datasets = joblib.load(data_drive_path+ \"aiwp_ml_setup_500geopotential_32x64_2020_leadtime72.pkl\").drop(columns=[\"area_weight\",\"keisler\"])\n",
    "print(f\"Merged_datasets size:{merged_datasets.shape} \")\n",
    "merged_datasets.head()"
   ]
  },
  {
   "cell_type": "code",
   "execution_count": null,
   "metadata": {
    "colab": {
     "base_uri": "https://localhost:8080/",
     "height": 223
    },
    "executionInfo": {
     "elapsed": 2688,
     "status": "ok",
     "timestamp": 1749646578599,
     "user": {
      "displayName": "Josiah Kiarie KIMANI",
      "userId": "14842758841059902092"
     },
     "user_tz": -120
    },
    "id": "vN6NUkXOgNNA",
    "outputId": "03e6f83e-2548-4400-f2cf-28209804868d"
   },
   "outputs": [
    {
     "name": "stdout",
     "output_type": "stream",
     "text": [
      "era5_dataset size:(1556480, 5) \n"
     ]
    },
    {
     "data": {
      "application/vnd.google.colaboratory.intrinsic+json": {
       "type": "dataframe",
       "variable_name": "era5_dataset"
      },
      "text/html": [
       "\n",
       "  <div id=\"df-bde46a5c-5bce-49c4-b40a-b1aaa7538ac4\" class=\"colab-df-container\">\n",
       "    <div>\n",
       "<style scoped>\n",
       "    .dataframe tbody tr th:only-of-type {\n",
       "        vertical-align: middle;\n",
       "    }\n",
       "\n",
       "    .dataframe tbody tr th {\n",
       "        vertical-align: top;\n",
       "    }\n",
       "\n",
       "    .dataframe thead th {\n",
       "        text-align: right;\n",
       "    }\n",
       "</style>\n",
       "<table border=\"1\" class=\"dataframe\">\n",
       "  <thead>\n",
       "    <tr style=\"text-align: right;\">\n",
       "      <th></th>\n",
       "      <th>time</th>\n",
       "      <th>longitude</th>\n",
       "      <th>latitude</th>\n",
       "      <th>era5</th>\n",
       "      <th>area_weight</th>\n",
       "    </tr>\n",
       "  </thead>\n",
       "  <tbody>\n",
       "    <tr>\n",
       "      <th>0</th>\n",
       "      <td>2020-01-01</td>\n",
       "      <td>0.0</td>\n",
       "      <td>-87.1875</td>\n",
       "      <td>49846.941406</td>\n",
       "      <td>0.049068</td>\n",
       "    </tr>\n",
       "    <tr>\n",
       "      <th>1</th>\n",
       "      <td>2020-01-01</td>\n",
       "      <td>0.0</td>\n",
       "      <td>-81.5625</td>\n",
       "      <td>50196.523438</td>\n",
       "      <td>0.146730</td>\n",
       "    </tr>\n",
       "    <tr>\n",
       "      <th>2</th>\n",
       "      <td>2020-01-01</td>\n",
       "      <td>0.0</td>\n",
       "      <td>-75.9375</td>\n",
       "      <td>50391.101562</td>\n",
       "      <td>0.242980</td>\n",
       "    </tr>\n",
       "    <tr>\n",
       "      <th>3</th>\n",
       "      <td>2020-01-01</td>\n",
       "      <td>0.0</td>\n",
       "      <td>-70.3125</td>\n",
       "      <td>49667.398438</td>\n",
       "      <td>0.336890</td>\n",
       "    </tr>\n",
       "    <tr>\n",
       "      <th>4</th>\n",
       "      <td>2020-01-01</td>\n",
       "      <td>0.0</td>\n",
       "      <td>-64.6875</td>\n",
       "      <td>49277.945312</td>\n",
       "      <td>0.427555</td>\n",
       "    </tr>\n",
       "  </tbody>\n",
       "</table>\n",
       "</div>\n",
       "    <div class=\"colab-df-buttons\">\n",
       "\n",
       "  <div class=\"colab-df-container\">\n",
       "    <button class=\"colab-df-convert\" onclick=\"convertToInteractive('df-bde46a5c-5bce-49c4-b40a-b1aaa7538ac4')\"\n",
       "            title=\"Convert this dataframe to an interactive table.\"\n",
       "            style=\"display:none;\">\n",
       "\n",
       "  <svg xmlns=\"http://www.w3.org/2000/svg\" height=\"24px\" viewBox=\"0 -960 960 960\">\n",
       "    <path d=\"M120-120v-720h720v720H120Zm60-500h600v-160H180v160Zm220 220h160v-160H400v160Zm0 220h160v-160H400v160ZM180-400h160v-160H180v160Zm440 0h160v-160H620v160ZM180-180h160v-160H180v160Zm440 0h160v-160H620v160Z\"/>\n",
       "  </svg>\n",
       "    </button>\n",
       "\n",
       "  <style>\n",
       "    .colab-df-container {\n",
       "      display:flex;\n",
       "      gap: 12px;\n",
       "    }\n",
       "\n",
       "    .colab-df-convert {\n",
       "      background-color: #E8F0FE;\n",
       "      border: none;\n",
       "      border-radius: 50%;\n",
       "      cursor: pointer;\n",
       "      display: none;\n",
       "      fill: #1967D2;\n",
       "      height: 32px;\n",
       "      padding: 0 0 0 0;\n",
       "      width: 32px;\n",
       "    }\n",
       "\n",
       "    .colab-df-convert:hover {\n",
       "      background-color: #E2EBFA;\n",
       "      box-shadow: 0px 1px 2px rgba(60, 64, 67, 0.3), 0px 1px 3px 1px rgba(60, 64, 67, 0.15);\n",
       "      fill: #174EA6;\n",
       "    }\n",
       "\n",
       "    .colab-df-buttons div {\n",
       "      margin-bottom: 4px;\n",
       "    }\n",
       "\n",
       "    [theme=dark] .colab-df-convert {\n",
       "      background-color: #3B4455;\n",
       "      fill: #D2E3FC;\n",
       "    }\n",
       "\n",
       "    [theme=dark] .colab-df-convert:hover {\n",
       "      background-color: #434B5C;\n",
       "      box-shadow: 0px 1px 3px 1px rgba(0, 0, 0, 0.15);\n",
       "      filter: drop-shadow(0px 1px 2px rgba(0, 0, 0, 0.3));\n",
       "      fill: #FFFFFF;\n",
       "    }\n",
       "  </style>\n",
       "\n",
       "    <script>\n",
       "      const buttonEl =\n",
       "        document.querySelector('#df-bde46a5c-5bce-49c4-b40a-b1aaa7538ac4 button.colab-df-convert');\n",
       "      buttonEl.style.display =\n",
       "        google.colab.kernel.accessAllowed ? 'block' : 'none';\n",
       "\n",
       "      async function convertToInteractive(key) {\n",
       "        const element = document.querySelector('#df-bde46a5c-5bce-49c4-b40a-b1aaa7538ac4');\n",
       "        const dataTable =\n",
       "          await google.colab.kernel.invokeFunction('convertToInteractive',\n",
       "                                                    [key], {});\n",
       "        if (!dataTable) return;\n",
       "\n",
       "        const docLinkHtml = 'Like what you see? Visit the ' +\n",
       "          '<a target=\"_blank\" href=https://colab.research.google.com/notebooks/data_table.ipynb>data table notebook</a>'\n",
       "          + ' to learn more about interactive tables.';\n",
       "        element.innerHTML = '';\n",
       "        dataTable['output_type'] = 'display_data';\n",
       "        await google.colab.output.renderOutput(dataTable, element);\n",
       "        const docLink = document.createElement('div');\n",
       "        docLink.innerHTML = docLinkHtml;\n",
       "        element.appendChild(docLink);\n",
       "      }\n",
       "    </script>\n",
       "  </div>\n",
       "\n",
       "\n",
       "    <div id=\"df-fd15d3eb-28e4-4926-821d-680c797b2a2f\">\n",
       "      <button class=\"colab-df-quickchart\" onclick=\"quickchart('df-fd15d3eb-28e4-4926-821d-680c797b2a2f')\"\n",
       "                title=\"Suggest charts\"\n",
       "                style=\"display:none;\">\n",
       "\n",
       "<svg xmlns=\"http://www.w3.org/2000/svg\" height=\"24px\"viewBox=\"0 0 24 24\"\n",
       "     width=\"24px\">\n",
       "    <g>\n",
       "        <path d=\"M19 3H5c-1.1 0-2 .9-2 2v14c0 1.1.9 2 2 2h14c1.1 0 2-.9 2-2V5c0-1.1-.9-2-2-2zM9 17H7v-7h2v7zm4 0h-2V7h2v10zm4 0h-2v-4h2v4z\"/>\n",
       "    </g>\n",
       "</svg>\n",
       "      </button>\n",
       "\n",
       "<style>\n",
       "  .colab-df-quickchart {\n",
       "      --bg-color: #E8F0FE;\n",
       "      --fill-color: #1967D2;\n",
       "      --hover-bg-color: #E2EBFA;\n",
       "      --hover-fill-color: #174EA6;\n",
       "      --disabled-fill-color: #AAA;\n",
       "      --disabled-bg-color: #DDD;\n",
       "  }\n",
       "\n",
       "  [theme=dark] .colab-df-quickchart {\n",
       "      --bg-color: #3B4455;\n",
       "      --fill-color: #D2E3FC;\n",
       "      --hover-bg-color: #434B5C;\n",
       "      --hover-fill-color: #FFFFFF;\n",
       "      --disabled-bg-color: #3B4455;\n",
       "      --disabled-fill-color: #666;\n",
       "  }\n",
       "\n",
       "  .colab-df-quickchart {\n",
       "    background-color: var(--bg-color);\n",
       "    border: none;\n",
       "    border-radius: 50%;\n",
       "    cursor: pointer;\n",
       "    display: none;\n",
       "    fill: var(--fill-color);\n",
       "    height: 32px;\n",
       "    padding: 0;\n",
       "    width: 32px;\n",
       "  }\n",
       "\n",
       "  .colab-df-quickchart:hover {\n",
       "    background-color: var(--hover-bg-color);\n",
       "    box-shadow: 0 1px 2px rgba(60, 64, 67, 0.3), 0 1px 3px 1px rgba(60, 64, 67, 0.15);\n",
       "    fill: var(--button-hover-fill-color);\n",
       "  }\n",
       "\n",
       "  .colab-df-quickchart-complete:disabled,\n",
       "  .colab-df-quickchart-complete:disabled:hover {\n",
       "    background-color: var(--disabled-bg-color);\n",
       "    fill: var(--disabled-fill-color);\n",
       "    box-shadow: none;\n",
       "  }\n",
       "\n",
       "  .colab-df-spinner {\n",
       "    border: 2px solid var(--fill-color);\n",
       "    border-color: transparent;\n",
       "    border-bottom-color: var(--fill-color);\n",
       "    animation:\n",
       "      spin 1s steps(1) infinite;\n",
       "  }\n",
       "\n",
       "  @keyframes spin {\n",
       "    0% {\n",
       "      border-color: transparent;\n",
       "      border-bottom-color: var(--fill-color);\n",
       "      border-left-color: var(--fill-color);\n",
       "    }\n",
       "    20% {\n",
       "      border-color: transparent;\n",
       "      border-left-color: var(--fill-color);\n",
       "      border-top-color: var(--fill-color);\n",
       "    }\n",
       "    30% {\n",
       "      border-color: transparent;\n",
       "      border-left-color: var(--fill-color);\n",
       "      border-top-color: var(--fill-color);\n",
       "      border-right-color: var(--fill-color);\n",
       "    }\n",
       "    40% {\n",
       "      border-color: transparent;\n",
       "      border-right-color: var(--fill-color);\n",
       "      border-top-color: var(--fill-color);\n",
       "    }\n",
       "    60% {\n",
       "      border-color: transparent;\n",
       "      border-right-color: var(--fill-color);\n",
       "    }\n",
       "    80% {\n",
       "      border-color: transparent;\n",
       "      border-right-color: var(--fill-color);\n",
       "      border-bottom-color: var(--fill-color);\n",
       "    }\n",
       "    90% {\n",
       "      border-color: transparent;\n",
       "      border-bottom-color: var(--fill-color);\n",
       "    }\n",
       "  }\n",
       "</style>\n",
       "\n",
       "      <script>\n",
       "        async function quickchart(key) {\n",
       "          const quickchartButtonEl =\n",
       "            document.querySelector('#' + key + ' button');\n",
       "          quickchartButtonEl.disabled = true;  // To prevent multiple clicks.\n",
       "          quickchartButtonEl.classList.add('colab-df-spinner');\n",
       "          try {\n",
       "            const charts = await google.colab.kernel.invokeFunction(\n",
       "                'suggestCharts', [key], {});\n",
       "          } catch (error) {\n",
       "            console.error('Error during call to suggestCharts:', error);\n",
       "          }\n",
       "          quickchartButtonEl.classList.remove('colab-df-spinner');\n",
       "          quickchartButtonEl.classList.add('colab-df-quickchart-complete');\n",
       "        }\n",
       "        (() => {\n",
       "          let quickchartButtonEl =\n",
       "            document.querySelector('#df-fd15d3eb-28e4-4926-821d-680c797b2a2f button');\n",
       "          quickchartButtonEl.style.display =\n",
       "            google.colab.kernel.accessAllowed ? 'block' : 'none';\n",
       "        })();\n",
       "      </script>\n",
       "    </div>\n",
       "\n",
       "    </div>\n",
       "  </div>\n"
      ],
      "text/plain": [
       "        time  longitude  latitude          era5  area_weight\n",
       "0 2020-01-01        0.0  -87.1875  49846.941406     0.049068\n",
       "1 2020-01-01        0.0  -81.5625  50196.523438     0.146730\n",
       "2 2020-01-01        0.0  -75.9375  50391.101562     0.242980\n",
       "3 2020-01-01        0.0  -70.3125  49667.398438     0.336890\n",
       "4 2020-01-01        0.0  -64.6875  49277.945312     0.427555"
      ]
     },
     "execution_count": 6,
     "metadata": {},
     "output_type": "execute_result"
    }
   ],
   "source": [
    "# Load the ERA5 dataset from the specified path\n",
    "# Ensure the file exists in the specified path\n",
    "era5_dataset = joblib.load(data_drive_path+ \"era5_ml_setup_500geopotential_32x64_2020.pkl\")\n",
    "print(f\"era5_dataset size:{era5_dataset.shape} \")\n",
    "era5_dataset.head()"
   ]
  },
  {
   "cell_type": "code",
   "execution_count": null,
   "metadata": {
    "colab": {
     "base_uri": "https://localhost:8080/",
     "height": 223
    },
    "executionInfo": {
     "elapsed": 1958,
     "status": "ok",
     "timestamp": 1749646580562,
     "user": {
      "displayName": "Josiah Kiarie KIMANI",
      "userId": "14842758841059902092"
     },
     "user_tz": -120
    },
    "id": "l1xcOPOPP5mG",
    "outputId": "ec8a4759-484a-4dec-a7a3-219a07424e3c"
   },
   "outputs": [
    {
     "name": "stdout",
     "output_type": "stream",
     "text": [
      "Dataframe size: (1556480, 9)\n"
     ]
    },
    {
     "data": {
      "application/vnd.google.colaboratory.intrinsic+json": {
       "type": "dataframe",
       "variable_name": "df"
      },
      "text/html": [
       "\n",
       "  <div id=\"df-bd352805-5094-432b-b314-c85d751548b8\" class=\"colab-df-container\">\n",
       "    <div>\n",
       "<style scoped>\n",
       "    .dataframe tbody tr th:only-of-type {\n",
       "        vertical-align: middle;\n",
       "    }\n",
       "\n",
       "    .dataframe tbody tr th {\n",
       "        vertical-align: top;\n",
       "    }\n",
       "\n",
       "    .dataframe thead th {\n",
       "        text-align: right;\n",
       "    }\n",
       "</style>\n",
       "<table border=\"1\" class=\"dataframe\">\n",
       "  <thead>\n",
       "    <tr style=\"text-align: right;\">\n",
       "      <th></th>\n",
       "      <th>time</th>\n",
       "      <th>longitude</th>\n",
       "      <th>latitude</th>\n",
       "      <th>era5</th>\n",
       "      <th>area_weight</th>\n",
       "      <th>graphcast</th>\n",
       "      <th>pangu</th>\n",
       "      <th>neuralgcm</th>\n",
       "      <th>ifshres</th>\n",
       "    </tr>\n",
       "  </thead>\n",
       "  <tbody>\n",
       "    <tr>\n",
       "      <th>0</th>\n",
       "      <td>2020-01-01</td>\n",
       "      <td>0.0</td>\n",
       "      <td>-87.1875</td>\n",
       "      <td>49846.941406</td>\n",
       "      <td>0.049068</td>\n",
       "      <td>NaN</td>\n",
       "      <td>NaN</td>\n",
       "      <td>NaN</td>\n",
       "      <td>NaN</td>\n",
       "    </tr>\n",
       "    <tr>\n",
       "      <th>1</th>\n",
       "      <td>2020-01-01</td>\n",
       "      <td>0.0</td>\n",
       "      <td>-81.5625</td>\n",
       "      <td>50196.523438</td>\n",
       "      <td>0.146730</td>\n",
       "      <td>NaN</td>\n",
       "      <td>NaN</td>\n",
       "      <td>NaN</td>\n",
       "      <td>NaN</td>\n",
       "    </tr>\n",
       "    <tr>\n",
       "      <th>2</th>\n",
       "      <td>2020-01-01</td>\n",
       "      <td>0.0</td>\n",
       "      <td>-75.9375</td>\n",
       "      <td>50391.101562</td>\n",
       "      <td>0.242980</td>\n",
       "      <td>NaN</td>\n",
       "      <td>NaN</td>\n",
       "      <td>NaN</td>\n",
       "      <td>NaN</td>\n",
       "    </tr>\n",
       "    <tr>\n",
       "      <th>3</th>\n",
       "      <td>2020-01-01</td>\n",
       "      <td>0.0</td>\n",
       "      <td>-70.3125</td>\n",
       "      <td>49667.398438</td>\n",
       "      <td>0.336890</td>\n",
       "      <td>NaN</td>\n",
       "      <td>NaN</td>\n",
       "      <td>NaN</td>\n",
       "      <td>NaN</td>\n",
       "    </tr>\n",
       "    <tr>\n",
       "      <th>4</th>\n",
       "      <td>2020-01-01</td>\n",
       "      <td>0.0</td>\n",
       "      <td>-64.6875</td>\n",
       "      <td>49277.945312</td>\n",
       "      <td>0.427555</td>\n",
       "      <td>NaN</td>\n",
       "      <td>NaN</td>\n",
       "      <td>NaN</td>\n",
       "      <td>NaN</td>\n",
       "    </tr>\n",
       "  </tbody>\n",
       "</table>\n",
       "</div>\n",
       "    <div class=\"colab-df-buttons\">\n",
       "\n",
       "  <div class=\"colab-df-container\">\n",
       "    <button class=\"colab-df-convert\" onclick=\"convertToInteractive('df-bd352805-5094-432b-b314-c85d751548b8')\"\n",
       "            title=\"Convert this dataframe to an interactive table.\"\n",
       "            style=\"display:none;\">\n",
       "\n",
       "  <svg xmlns=\"http://www.w3.org/2000/svg\" height=\"24px\" viewBox=\"0 -960 960 960\">\n",
       "    <path d=\"M120-120v-720h720v720H120Zm60-500h600v-160H180v160Zm220 220h160v-160H400v160Zm0 220h160v-160H400v160ZM180-400h160v-160H180v160Zm440 0h160v-160H620v160ZM180-180h160v-160H180v160Zm440 0h160v-160H620v160Z\"/>\n",
       "  </svg>\n",
       "    </button>\n",
       "\n",
       "  <style>\n",
       "    .colab-df-container {\n",
       "      display:flex;\n",
       "      gap: 12px;\n",
       "    }\n",
       "\n",
       "    .colab-df-convert {\n",
       "      background-color: #E8F0FE;\n",
       "      border: none;\n",
       "      border-radius: 50%;\n",
       "      cursor: pointer;\n",
       "      display: none;\n",
       "      fill: #1967D2;\n",
       "      height: 32px;\n",
       "      padding: 0 0 0 0;\n",
       "      width: 32px;\n",
       "    }\n",
       "\n",
       "    .colab-df-convert:hover {\n",
       "      background-color: #E2EBFA;\n",
       "      box-shadow: 0px 1px 2px rgba(60, 64, 67, 0.3), 0px 1px 3px 1px rgba(60, 64, 67, 0.15);\n",
       "      fill: #174EA6;\n",
       "    }\n",
       "\n",
       "    .colab-df-buttons div {\n",
       "      margin-bottom: 4px;\n",
       "    }\n",
       "\n",
       "    [theme=dark] .colab-df-convert {\n",
       "      background-color: #3B4455;\n",
       "      fill: #D2E3FC;\n",
       "    }\n",
       "\n",
       "    [theme=dark] .colab-df-convert:hover {\n",
       "      background-color: #434B5C;\n",
       "      box-shadow: 0px 1px 3px 1px rgba(0, 0, 0, 0.15);\n",
       "      filter: drop-shadow(0px 1px 2px rgba(0, 0, 0, 0.3));\n",
       "      fill: #FFFFFF;\n",
       "    }\n",
       "  </style>\n",
       "\n",
       "    <script>\n",
       "      const buttonEl =\n",
       "        document.querySelector('#df-bd352805-5094-432b-b314-c85d751548b8 button.colab-df-convert');\n",
       "      buttonEl.style.display =\n",
       "        google.colab.kernel.accessAllowed ? 'block' : 'none';\n",
       "\n",
       "      async function convertToInteractive(key) {\n",
       "        const element = document.querySelector('#df-bd352805-5094-432b-b314-c85d751548b8');\n",
       "        const dataTable =\n",
       "          await google.colab.kernel.invokeFunction('convertToInteractive',\n",
       "                                                    [key], {});\n",
       "        if (!dataTable) return;\n",
       "\n",
       "        const docLinkHtml = 'Like what you see? Visit the ' +\n",
       "          '<a target=\"_blank\" href=https://colab.research.google.com/notebooks/data_table.ipynb>data table notebook</a>'\n",
       "          + ' to learn more about interactive tables.';\n",
       "        element.innerHTML = '';\n",
       "        dataTable['output_type'] = 'display_data';\n",
       "        await google.colab.output.renderOutput(dataTable, element);\n",
       "        const docLink = document.createElement('div');\n",
       "        docLink.innerHTML = docLinkHtml;\n",
       "        element.appendChild(docLink);\n",
       "      }\n",
       "    </script>\n",
       "  </div>\n",
       "\n",
       "\n",
       "    <div id=\"df-a5252d1d-9fee-43eb-aa95-cc20b88d77ce\">\n",
       "      <button class=\"colab-df-quickchart\" onclick=\"quickchart('df-a5252d1d-9fee-43eb-aa95-cc20b88d77ce')\"\n",
       "                title=\"Suggest charts\"\n",
       "                style=\"display:none;\">\n",
       "\n",
       "<svg xmlns=\"http://www.w3.org/2000/svg\" height=\"24px\"viewBox=\"0 0 24 24\"\n",
       "     width=\"24px\">\n",
       "    <g>\n",
       "        <path d=\"M19 3H5c-1.1 0-2 .9-2 2v14c0 1.1.9 2 2 2h14c1.1 0 2-.9 2-2V5c0-1.1-.9-2-2-2zM9 17H7v-7h2v7zm4 0h-2V7h2v10zm4 0h-2v-4h2v4z\"/>\n",
       "    </g>\n",
       "</svg>\n",
       "      </button>\n",
       "\n",
       "<style>\n",
       "  .colab-df-quickchart {\n",
       "      --bg-color: #E8F0FE;\n",
       "      --fill-color: #1967D2;\n",
       "      --hover-bg-color: #E2EBFA;\n",
       "      --hover-fill-color: #174EA6;\n",
       "      --disabled-fill-color: #AAA;\n",
       "      --disabled-bg-color: #DDD;\n",
       "  }\n",
       "\n",
       "  [theme=dark] .colab-df-quickchart {\n",
       "      --bg-color: #3B4455;\n",
       "      --fill-color: #D2E3FC;\n",
       "      --hover-bg-color: #434B5C;\n",
       "      --hover-fill-color: #FFFFFF;\n",
       "      --disabled-bg-color: #3B4455;\n",
       "      --disabled-fill-color: #666;\n",
       "  }\n",
       "\n",
       "  .colab-df-quickchart {\n",
       "    background-color: var(--bg-color);\n",
       "    border: none;\n",
       "    border-radius: 50%;\n",
       "    cursor: pointer;\n",
       "    display: none;\n",
       "    fill: var(--fill-color);\n",
       "    height: 32px;\n",
       "    padding: 0;\n",
       "    width: 32px;\n",
       "  }\n",
       "\n",
       "  .colab-df-quickchart:hover {\n",
       "    background-color: var(--hover-bg-color);\n",
       "    box-shadow: 0 1px 2px rgba(60, 64, 67, 0.3), 0 1px 3px 1px rgba(60, 64, 67, 0.15);\n",
       "    fill: var(--button-hover-fill-color);\n",
       "  }\n",
       "\n",
       "  .colab-df-quickchart-complete:disabled,\n",
       "  .colab-df-quickchart-complete:disabled:hover {\n",
       "    background-color: var(--disabled-bg-color);\n",
       "    fill: var(--disabled-fill-color);\n",
       "    box-shadow: none;\n",
       "  }\n",
       "\n",
       "  .colab-df-spinner {\n",
       "    border: 2px solid var(--fill-color);\n",
       "    border-color: transparent;\n",
       "    border-bottom-color: var(--fill-color);\n",
       "    animation:\n",
       "      spin 1s steps(1) infinite;\n",
       "  }\n",
       "\n",
       "  @keyframes spin {\n",
       "    0% {\n",
       "      border-color: transparent;\n",
       "      border-bottom-color: var(--fill-color);\n",
       "      border-left-color: var(--fill-color);\n",
       "    }\n",
       "    20% {\n",
       "      border-color: transparent;\n",
       "      border-left-color: var(--fill-color);\n",
       "      border-top-color: var(--fill-color);\n",
       "    }\n",
       "    30% {\n",
       "      border-color: transparent;\n",
       "      border-left-color: var(--fill-color);\n",
       "      border-top-color: var(--fill-color);\n",
       "      border-right-color: var(--fill-color);\n",
       "    }\n",
       "    40% {\n",
       "      border-color: transparent;\n",
       "      border-right-color: var(--fill-color);\n",
       "      border-top-color: var(--fill-color);\n",
       "    }\n",
       "    60% {\n",
       "      border-color: transparent;\n",
       "      border-right-color: var(--fill-color);\n",
       "    }\n",
       "    80% {\n",
       "      border-color: transparent;\n",
       "      border-right-color: var(--fill-color);\n",
       "      border-bottom-color: var(--fill-color);\n",
       "    }\n",
       "    90% {\n",
       "      border-color: transparent;\n",
       "      border-bottom-color: var(--fill-color);\n",
       "    }\n",
       "  }\n",
       "</style>\n",
       "\n",
       "      <script>\n",
       "        async function quickchart(key) {\n",
       "          const quickchartButtonEl =\n",
       "            document.querySelector('#' + key + ' button');\n",
       "          quickchartButtonEl.disabled = true;  // To prevent multiple clicks.\n",
       "          quickchartButtonEl.classList.add('colab-df-spinner');\n",
       "          try {\n",
       "            const charts = await google.colab.kernel.invokeFunction(\n",
       "                'suggestCharts', [key], {});\n",
       "          } catch (error) {\n",
       "            console.error('Error during call to suggestCharts:', error);\n",
       "          }\n",
       "          quickchartButtonEl.classList.remove('colab-df-spinner');\n",
       "          quickchartButtonEl.classList.add('colab-df-quickchart-complete');\n",
       "        }\n",
       "        (() => {\n",
       "          let quickchartButtonEl =\n",
       "            document.querySelector('#df-a5252d1d-9fee-43eb-aa95-cc20b88d77ce button');\n",
       "          quickchartButtonEl.style.display =\n",
       "            google.colab.kernel.accessAllowed ? 'block' : 'none';\n",
       "        })();\n",
       "      </script>\n",
       "    </div>\n",
       "\n",
       "    </div>\n",
       "  </div>\n"
      ],
      "text/plain": [
       "        time  longitude  latitude          era5  area_weight  graphcast  \\\n",
       "0 2020-01-01        0.0  -87.1875  49846.941406     0.049068        NaN   \n",
       "1 2020-01-01        0.0  -81.5625  50196.523438     0.146730        NaN   \n",
       "2 2020-01-01        0.0  -75.9375  50391.101562     0.242980        NaN   \n",
       "3 2020-01-01        0.0  -70.3125  49667.398438     0.336890        NaN   \n",
       "4 2020-01-01        0.0  -64.6875  49277.945312     0.427555        NaN   \n",
       "\n",
       "   pangu  neuralgcm  ifshres  \n",
       "0    NaN        NaN      NaN  \n",
       "1    NaN        NaN      NaN  \n",
       "2    NaN        NaN      NaN  \n",
       "3    NaN        NaN      NaN  \n",
       "4    NaN        NaN      NaN  "
      ]
     },
     "execution_count": 7,
     "metadata": {},
     "output_type": "execute_result"
    }
   ],
   "source": [
    "# @title Merge Forecasts and Era5\n",
    "# Merge the merged datasets with the ERA5 dataset on time, longitude, and latitude\n",
    "# Ensure the columns 'time', 'longitude', and 'latitude' are present in both datasets\n",
    "\n",
    "#merged_datasets = merged_datasets.rename(columns={col: col + \"_lt72\" for col in merged_datasets.columns if col not in [\"time\", \"longitude\", \"latitude\"]})\n",
    "df = era5_dataset.merge(merged_datasets, on=[\"time\", \"longitude\", \"latitude\"], how=\"outer\")\n",
    "\n",
    "print(f\"Dataframe size: {df.shape}\")\n",
    "df.head()"
   ]
  },
  {
   "cell_type": "code",
   "execution_count": null,
   "metadata": {
    "colab": {
     "base_uri": "https://localhost:8080/",
     "height": 366
    },
    "executionInfo": {
     "elapsed": 40,
     "status": "ok",
     "timestamp": 1749646580609,
     "user": {
      "displayName": "Josiah Kiarie KIMANI",
      "userId": "14842758841059902092"
     },
     "user_tz": -120
    },
    "id": "4zvYKH9T9FF6",
    "outputId": "50daf9db-9d65-466a-c846-8511a4f44968"
   },
   "outputs": [
    {
     "data": {
      "text/html": [
       "<div>\n",
       "<style scoped>\n",
       "    .dataframe tbody tr th:only-of-type {\n",
       "        vertical-align: middle;\n",
       "    }\n",
       "\n",
       "    .dataframe tbody tr th {\n",
       "        vertical-align: top;\n",
       "    }\n",
       "\n",
       "    .dataframe thead th {\n",
       "        text-align: right;\n",
       "    }\n",
       "</style>\n",
       "<table border=\"1\" class=\"dataframe\">\n",
       "  <thead>\n",
       "    <tr style=\"text-align: right;\">\n",
       "      <th></th>\n",
       "      <th>0</th>\n",
       "    </tr>\n",
       "  </thead>\n",
       "  <tbody>\n",
       "    <tr>\n",
       "      <th>time</th>\n",
       "      <td>0</td>\n",
       "    </tr>\n",
       "    <tr>\n",
       "      <th>longitude</th>\n",
       "      <td>0</td>\n",
       "    </tr>\n",
       "    <tr>\n",
       "      <th>latitude</th>\n",
       "      <td>0</td>\n",
       "    </tr>\n",
       "    <tr>\n",
       "      <th>era5</th>\n",
       "      <td>0</td>\n",
       "    </tr>\n",
       "    <tr>\n",
       "      <th>area_weight</th>\n",
       "      <td>0</td>\n",
       "    </tr>\n",
       "    <tr>\n",
       "      <th>graphcast</th>\n",
       "      <td>57344</td>\n",
       "    </tr>\n",
       "    <tr>\n",
       "      <th>pangu</th>\n",
       "      <td>57344</td>\n",
       "    </tr>\n",
       "    <tr>\n",
       "      <th>neuralgcm</th>\n",
       "      <td>57344</td>\n",
       "    </tr>\n",
       "    <tr>\n",
       "      <th>ifshres</th>\n",
       "      <td>57344</td>\n",
       "    </tr>\n",
       "  </tbody>\n",
       "</table>\n",
       "</div><br><label><b>dtype:</b> int64</label>"
      ],
      "text/plain": [
       "time               0\n",
       "longitude          0\n",
       "latitude           0\n",
       "era5               0\n",
       "area_weight        0\n",
       "graphcast      57344\n",
       "pangu          57344\n",
       "neuralgcm      57344\n",
       "ifshres        57344\n",
       "dtype: int64"
      ]
     },
     "execution_count": 8,
     "metadata": {},
     "output_type": "execute_result"
    }
   ],
   "source": [
    "# @title Check for Missing Values\n",
    "# Check for missing values in the merged dataframe\n",
    "df.isna().sum()\n"
   ]
  },
  {
   "cell_type": "code",
   "execution_count": null,
   "metadata": {
    "executionInfo": {
     "elapsed": 53,
     "status": "ok",
     "timestamp": 1749646581798,
     "user": {
      "displayName": "Josiah Kiarie KIMANI",
      "userId": "14842758841059902092"
     },
     "user_tz": -120
    },
    "id": "UEp8HNfJ-i0G"
   },
   "outputs": [],
   "source": [
    "# @title Drop Rows with Missing Values\n",
    "# Drop rows with any missing values in the dataframe\n",
    "df_not_null = df.dropna()"
   ]
  },
  {
   "cell_type": "code",
   "execution_count": 10,
   "metadata": {
    "colab": {
     "base_uri": "https://localhost:8080/",
     "height": 206
    },
    "executionInfo": {
     "elapsed": 85,
     "status": "ok",
     "timestamp": 1749646585189,
     "user": {
      "displayName": "Josiah Kiarie KIMANI",
      "userId": "14842758841059902092"
     },
     "user_tz": -120
    },
    "id": "dMHQbgFc-p7P",
    "outputId": "ea4bdc7f-5e5c-406b-a447-73b92ed30db9"
   },
   "outputs": [
    {
     "data": {
      "application/vnd.google.colaboratory.intrinsic+json": {
       "type": "dataframe",
       "variable_name": "df_not_null"
      },
      "text/html": [
       "\n",
       "  <div id=\"df-d484c901-4abd-46bf-81cc-778b21e9ac45\" class=\"colab-df-container\">\n",
       "    <div>\n",
       "<style scoped>\n",
       "    .dataframe tbody tr th:only-of-type {\n",
       "        vertical-align: middle;\n",
       "    }\n",
       "\n",
       "    .dataframe tbody tr th {\n",
       "        vertical-align: top;\n",
       "    }\n",
       "\n",
       "    .dataframe thead th {\n",
       "        text-align: right;\n",
       "    }\n",
       "</style>\n",
       "<table border=\"1\" class=\"dataframe\">\n",
       "  <thead>\n",
       "    <tr style=\"text-align: right;\">\n",
       "      <th></th>\n",
       "      <th>time</th>\n",
       "      <th>longitude</th>\n",
       "      <th>latitude</th>\n",
       "      <th>era5</th>\n",
       "      <th>area_weight</th>\n",
       "      <th>graphcast</th>\n",
       "      <th>pangu</th>\n",
       "      <th>neuralgcm</th>\n",
       "      <th>ifshres</th>\n",
       "    </tr>\n",
       "  </thead>\n",
       "  <tbody>\n",
       "    <tr>\n",
       "      <th>12288</th>\n",
       "      <td>2020-01-04</td>\n",
       "      <td>0.0</td>\n",
       "      <td>-87.1875</td>\n",
       "      <td>50122.613281</td>\n",
       "      <td>0.049068</td>\n",
       "      <td>49969.980469</td>\n",
       "      <td>49928.015625</td>\n",
       "      <td>50061.421875</td>\n",
       "      <td>50103.640625</td>\n",
       "    </tr>\n",
       "    <tr>\n",
       "      <th>12289</th>\n",
       "      <td>2020-01-04</td>\n",
       "      <td>0.0</td>\n",
       "      <td>-81.5625</td>\n",
       "      <td>50243.335938</td>\n",
       "      <td>0.146730</td>\n",
       "      <td>50197.351562</td>\n",
       "      <td>50232.875000</td>\n",
       "      <td>50227.707031</td>\n",
       "      <td>50357.289062</td>\n",
       "    </tr>\n",
       "    <tr>\n",
       "      <th>12290</th>\n",
       "      <td>2020-01-04</td>\n",
       "      <td>0.0</td>\n",
       "      <td>-75.9375</td>\n",
       "      <td>50384.082031</td>\n",
       "      <td>0.242980</td>\n",
       "      <td>50326.664062</td>\n",
       "      <td>50367.367188</td>\n",
       "      <td>50305.351562</td>\n",
       "      <td>50433.640625</td>\n",
       "    </tr>\n",
       "    <tr>\n",
       "      <th>12291</th>\n",
       "      <td>2020-01-04</td>\n",
       "      <td>0.0</td>\n",
       "      <td>-70.3125</td>\n",
       "      <td>50042.835938</td>\n",
       "      <td>0.336890</td>\n",
       "      <td>50008.304688</td>\n",
       "      <td>50005.089844</td>\n",
       "      <td>49969.562500</td>\n",
       "      <td>50055.031250</td>\n",
       "    </tr>\n",
       "    <tr>\n",
       "      <th>12292</th>\n",
       "      <td>2020-01-04</td>\n",
       "      <td>0.0</td>\n",
       "      <td>-64.6875</td>\n",
       "      <td>49216.960938</td>\n",
       "      <td>0.427555</td>\n",
       "      <td>49281.628906</td>\n",
       "      <td>49232.839844</td>\n",
       "      <td>49214.851562</td>\n",
       "      <td>49303.812500</td>\n",
       "    </tr>\n",
       "  </tbody>\n",
       "</table>\n",
       "</div>\n",
       "    <div class=\"colab-df-buttons\">\n",
       "\n",
       "  <div class=\"colab-df-container\">\n",
       "    <button class=\"colab-df-convert\" onclick=\"convertToInteractive('df-d484c901-4abd-46bf-81cc-778b21e9ac45')\"\n",
       "            title=\"Convert this dataframe to an interactive table.\"\n",
       "            style=\"display:none;\">\n",
       "\n",
       "  <svg xmlns=\"http://www.w3.org/2000/svg\" height=\"24px\" viewBox=\"0 -960 960 960\">\n",
       "    <path d=\"M120-120v-720h720v720H120Zm60-500h600v-160H180v160Zm220 220h160v-160H400v160Zm0 220h160v-160H400v160ZM180-400h160v-160H180v160Zm440 0h160v-160H620v160ZM180-180h160v-160H180v160Zm440 0h160v-160H620v160Z\"/>\n",
       "  </svg>\n",
       "    </button>\n",
       "\n",
       "  <style>\n",
       "    .colab-df-container {\n",
       "      display:flex;\n",
       "      gap: 12px;\n",
       "    }\n",
       "\n",
       "    .colab-df-convert {\n",
       "      background-color: #E8F0FE;\n",
       "      border: none;\n",
       "      border-radius: 50%;\n",
       "      cursor: pointer;\n",
       "      display: none;\n",
       "      fill: #1967D2;\n",
       "      height: 32px;\n",
       "      padding: 0 0 0 0;\n",
       "      width: 32px;\n",
       "    }\n",
       "\n",
       "    .colab-df-convert:hover {\n",
       "      background-color: #E2EBFA;\n",
       "      box-shadow: 0px 1px 2px rgba(60, 64, 67, 0.3), 0px 1px 3px 1px rgba(60, 64, 67, 0.15);\n",
       "      fill: #174EA6;\n",
       "    }\n",
       "\n",
       "    .colab-df-buttons div {\n",
       "      margin-bottom: 4px;\n",
       "    }\n",
       "\n",
       "    [theme=dark] .colab-df-convert {\n",
       "      background-color: #3B4455;\n",
       "      fill: #D2E3FC;\n",
       "    }\n",
       "\n",
       "    [theme=dark] .colab-df-convert:hover {\n",
       "      background-color: #434B5C;\n",
       "      box-shadow: 0px 1px 3px 1px rgba(0, 0, 0, 0.15);\n",
       "      filter: drop-shadow(0px 1px 2px rgba(0, 0, 0, 0.3));\n",
       "      fill: #FFFFFF;\n",
       "    }\n",
       "  </style>\n",
       "\n",
       "    <script>\n",
       "      const buttonEl =\n",
       "        document.querySelector('#df-d484c901-4abd-46bf-81cc-778b21e9ac45 button.colab-df-convert');\n",
       "      buttonEl.style.display =\n",
       "        google.colab.kernel.accessAllowed ? 'block' : 'none';\n",
       "\n",
       "      async function convertToInteractive(key) {\n",
       "        const element = document.querySelector('#df-d484c901-4abd-46bf-81cc-778b21e9ac45');\n",
       "        const dataTable =\n",
       "          await google.colab.kernel.invokeFunction('convertToInteractive',\n",
       "                                                    [key], {});\n",
       "        if (!dataTable) return;\n",
       "\n",
       "        const docLinkHtml = 'Like what you see? Visit the ' +\n",
       "          '<a target=\"_blank\" href=https://colab.research.google.com/notebooks/data_table.ipynb>data table notebook</a>'\n",
       "          + ' to learn more about interactive tables.';\n",
       "        element.innerHTML = '';\n",
       "        dataTable['output_type'] = 'display_data';\n",
       "        await google.colab.output.renderOutput(dataTable, element);\n",
       "        const docLink = document.createElement('div');\n",
       "        docLink.innerHTML = docLinkHtml;\n",
       "        element.appendChild(docLink);\n",
       "      }\n",
       "    </script>\n",
       "  </div>\n",
       "\n",
       "\n",
       "    <div id=\"df-d16413a9-5326-4699-823f-09e2c05e7b79\">\n",
       "      <button class=\"colab-df-quickchart\" onclick=\"quickchart('df-d16413a9-5326-4699-823f-09e2c05e7b79')\"\n",
       "                title=\"Suggest charts\"\n",
       "                style=\"display:none;\">\n",
       "\n",
       "<svg xmlns=\"http://www.w3.org/2000/svg\" height=\"24px\"viewBox=\"0 0 24 24\"\n",
       "     width=\"24px\">\n",
       "    <g>\n",
       "        <path d=\"M19 3H5c-1.1 0-2 .9-2 2v14c0 1.1.9 2 2 2h14c1.1 0 2-.9 2-2V5c0-1.1-.9-2-2-2zM9 17H7v-7h2v7zm4 0h-2V7h2v10zm4 0h-2v-4h2v4z\"/>\n",
       "    </g>\n",
       "</svg>\n",
       "      </button>\n",
       "\n",
       "<style>\n",
       "  .colab-df-quickchart {\n",
       "      --bg-color: #E8F0FE;\n",
       "      --fill-color: #1967D2;\n",
       "      --hover-bg-color: #E2EBFA;\n",
       "      --hover-fill-color: #174EA6;\n",
       "      --disabled-fill-color: #AAA;\n",
       "      --disabled-bg-color: #DDD;\n",
       "  }\n",
       "\n",
       "  [theme=dark] .colab-df-quickchart {\n",
       "      --bg-color: #3B4455;\n",
       "      --fill-color: #D2E3FC;\n",
       "      --hover-bg-color: #434B5C;\n",
       "      --hover-fill-color: #FFFFFF;\n",
       "      --disabled-bg-color: #3B4455;\n",
       "      --disabled-fill-color: #666;\n",
       "  }\n",
       "\n",
       "  .colab-df-quickchart {\n",
       "    background-color: var(--bg-color);\n",
       "    border: none;\n",
       "    border-radius: 50%;\n",
       "    cursor: pointer;\n",
       "    display: none;\n",
       "    fill: var(--fill-color);\n",
       "    height: 32px;\n",
       "    padding: 0;\n",
       "    width: 32px;\n",
       "  }\n",
       "\n",
       "  .colab-df-quickchart:hover {\n",
       "    background-color: var(--hover-bg-color);\n",
       "    box-shadow: 0 1px 2px rgba(60, 64, 67, 0.3), 0 1px 3px 1px rgba(60, 64, 67, 0.15);\n",
       "    fill: var(--button-hover-fill-color);\n",
       "  }\n",
       "\n",
       "  .colab-df-quickchart-complete:disabled,\n",
       "  .colab-df-quickchart-complete:disabled:hover {\n",
       "    background-color: var(--disabled-bg-color);\n",
       "    fill: var(--disabled-fill-color);\n",
       "    box-shadow: none;\n",
       "  }\n",
       "\n",
       "  .colab-df-spinner {\n",
       "    border: 2px solid var(--fill-color);\n",
       "    border-color: transparent;\n",
       "    border-bottom-color: var(--fill-color);\n",
       "    animation:\n",
       "      spin 1s steps(1) infinite;\n",
       "  }\n",
       "\n",
       "  @keyframes spin {\n",
       "    0% {\n",
       "      border-color: transparent;\n",
       "      border-bottom-color: var(--fill-color);\n",
       "      border-left-color: var(--fill-color);\n",
       "    }\n",
       "    20% {\n",
       "      border-color: transparent;\n",
       "      border-left-color: var(--fill-color);\n",
       "      border-top-color: var(--fill-color);\n",
       "    }\n",
       "    30% {\n",
       "      border-color: transparent;\n",
       "      border-left-color: var(--fill-color);\n",
       "      border-top-color: var(--fill-color);\n",
       "      border-right-color: var(--fill-color);\n",
       "    }\n",
       "    40% {\n",
       "      border-color: transparent;\n",
       "      border-right-color: var(--fill-color);\n",
       "      border-top-color: var(--fill-color);\n",
       "    }\n",
       "    60% {\n",
       "      border-color: transparent;\n",
       "      border-right-color: var(--fill-color);\n",
       "    }\n",
       "    80% {\n",
       "      border-color: transparent;\n",
       "      border-right-color: var(--fill-color);\n",
       "      border-bottom-color: var(--fill-color);\n",
       "    }\n",
       "    90% {\n",
       "      border-color: transparent;\n",
       "      border-bottom-color: var(--fill-color);\n",
       "    }\n",
       "  }\n",
       "</style>\n",
       "\n",
       "      <script>\n",
       "        async function quickchart(key) {\n",
       "          const quickchartButtonEl =\n",
       "            document.querySelector('#' + key + ' button');\n",
       "          quickchartButtonEl.disabled = true;  // To prevent multiple clicks.\n",
       "          quickchartButtonEl.classList.add('colab-df-spinner');\n",
       "          try {\n",
       "            const charts = await google.colab.kernel.invokeFunction(\n",
       "                'suggestCharts', [key], {});\n",
       "          } catch (error) {\n",
       "            console.error('Error during call to suggestCharts:', error);\n",
       "          }\n",
       "          quickchartButtonEl.classList.remove('colab-df-spinner');\n",
       "          quickchartButtonEl.classList.add('colab-df-quickchart-complete');\n",
       "        }\n",
       "        (() => {\n",
       "          let quickchartButtonEl =\n",
       "            document.querySelector('#df-d16413a9-5326-4699-823f-09e2c05e7b79 button');\n",
       "          quickchartButtonEl.style.display =\n",
       "            google.colab.kernel.accessAllowed ? 'block' : 'none';\n",
       "        })();\n",
       "      </script>\n",
       "    </div>\n",
       "\n",
       "    </div>\n",
       "  </div>\n"
      ],
      "text/plain": [
       "            time  longitude  latitude          era5  area_weight  \\\n",
       "12288 2020-01-04        0.0  -87.1875  50122.613281     0.049068   \n",
       "12289 2020-01-04        0.0  -81.5625  50243.335938     0.146730   \n",
       "12290 2020-01-04        0.0  -75.9375  50384.082031     0.242980   \n",
       "12291 2020-01-04        0.0  -70.3125  50042.835938     0.336890   \n",
       "12292 2020-01-04        0.0  -64.6875  49216.960938     0.427555   \n",
       "\n",
       "          graphcast         pangu     neuralgcm       ifshres  \n",
       "12288  49969.980469  49928.015625  50061.421875  50103.640625  \n",
       "12289  50197.351562  50232.875000  50227.707031  50357.289062  \n",
       "12290  50326.664062  50367.367188  50305.351562  50433.640625  \n",
       "12291  50008.304688  50005.089844  49969.562500  50055.031250  \n",
       "12292  49281.628906  49232.839844  49214.851562  49303.812500  "
      ]
     },
     "execution_count": 10,
     "metadata": {},
     "output_type": "execute_result"
    }
   ],
   "source": [
    "df_not_null.head()"
   ]
  },
  {
   "cell_type": "markdown",
   "metadata": {
    "id": "P5_eQ3P4qaPM"
   },
   "source": [
    "### Calculate RMSE to compare to values on [WB2 website](https://sites.research.google/weatherbench/deterministic-scores/)\n",
    "\n"
   ]
  },
  {
   "cell_type": "code",
   "execution_count": null,
   "metadata": {
    "executionInfo": {
     "elapsed": 85,
     "status": "ok",
     "timestamp": 1749646596470,
     "user": {
      "displayName": "Josiah Kiarie KIMANI",
      "userId": "14842758841059902092"
     },
     "user_tz": -120
    },
    "id": "E-M7iJ_mu4oU"
   },
   "outputs": [],
   "source": [
    "# @title Calculate Pairwise RMSE\n",
    "# This function calculates the pairwise RMSE between specified columns in a DataFrame.\n",
    "def calculate_pairwise_rmse(df, columns):\n",
    "    \"\"\"Calculates the pairwise RMSE between specified columns in a DataFrame.\n",
    "\n",
    "    Args:\n",
    "      df: The input DataFrame.\n",
    "      columns: A list of column names to calculate RMSE for.\n",
    "\n",
    "    Returns:\n",
    "      A pandas DataFrame representing the pairwise RMSE matrix.\n",
    "    \"\"\"\n",
    "\n",
    "    n = len(columns)\n",
    "    rmse_matrix = pd.DataFrame(index=columns, columns=columns)\n",
    "\n",
    "    for i in range(n):\n",
    "      for j in range(i, n):  # Only calculate upper triangle, as it is symmetric\n",
    "          col1 = columns[i]\n",
    "          col2 = columns[j]\n",
    "\n",
    "          rmse = np.sqrt(((df[col1] - df[col2])**2 * df[\"area_weight\"]).mean() / df[\"area_weight\"].mean())\n",
    "          rmse_matrix.loc[col1, col2] = rmse\n",
    "          rmse_matrix.loc[col2, col1] = rmse # Assign to the lower triangle as well\n",
    "\n",
    "    return rmse_matrix\n",
    "\n"
   ]
  },
  {
   "cell_type": "code",
   "execution_count": null,
   "metadata": {
    "colab": {
     "base_uri": "https://localhost:8080/",
     "height": 206
    },
    "executionInfo": {
     "elapsed": 785,
     "status": "ok",
     "timestamp": 1749646601185,
     "user": {
      "displayName": "Josiah Kiarie KIMANI",
      "userId": "14842758841059902092"
     },
     "user_tz": -120
    },
    "id": "dtMLI8b0rdQs",
    "outputId": "4ab869f5-45ab-4c7c-9185-a235f4b1fb97"
   },
   "outputs": [
    {
     "data": {
      "application/vnd.google.colaboratory.intrinsic+json": {
       "summary": "{\n  \"name\": \"pairwise_rmse_result\",\n  \"rows\": 5,\n  \"fields\": [\n    {\n      \"column\": \"era5\",\n      \"properties\": {\n        \"dtype\": \"date\",\n        \"min\": 0.0,\n        \"max\": 125.90847575249283,\n        \"num_unique_values\": 5,\n        \"samples\": [\n          115.16015644321308,\n          124.89476667189136,\n          125.90847575249283\n        ],\n        \"semantic_type\": \"\",\n        \"description\": \"\"\n      }\n    },\n    {\n      \"column\": \"graphcast\",\n      \"properties\": {\n        \"dtype\": \"date\",\n        \"min\": 0.0,\n        \"max\": 115.16015644321308,\n        \"num_unique_values\": 5,\n        \"samples\": [\n          0.0,\n          113.08011651865611,\n          105.99826803554976\n        ],\n        \"semantic_type\": \"\",\n        \"description\": \"\"\n      }\n    },\n    {\n      \"column\": \"pangu\",\n      \"properties\": {\n        \"dtype\": \"date\",\n        \"min\": 0.0,\n        \"max\": 125.90847575249283,\n        \"num_unique_values\": 5,\n        \"samples\": [\n          105.99826803554976,\n          119.07293684216387,\n          0.0\n        ],\n        \"semantic_type\": \"\",\n        \"description\": \"\"\n      }\n    },\n    {\n      \"column\": \"neuralgcm\",\n      \"properties\": {\n        \"dtype\": \"date\",\n        \"min\": 0.0,\n        \"max\": 111.08506849792758,\n        \"num_unique_values\": 5,\n        \"samples\": [\n          102.27904686155004,\n          111.08506849792758,\n          104.27386937193889\n        ],\n        \"semantic_type\": \"\",\n        \"description\": \"\"\n      }\n    },\n    {\n      \"column\": \"ifshres\",\n      \"properties\": {\n        \"dtype\": \"date\",\n        \"min\": 0.0,\n        \"max\": 124.89476667189136,\n        \"num_unique_values\": 5,\n        \"samples\": [\n          113.08011651865611,\n          0.0,\n          119.07293684216387\n        ],\n        \"semantic_type\": \"\",\n        \"description\": \"\"\n      }\n    }\n  ]\n}",
       "type": "dataframe",
       "variable_name": "pairwise_rmse_result"
      },
      "text/html": [
       "\n",
       "  <div id=\"df-15843969-20b6-49df-8446-1e6d6649a7bc\" class=\"colab-df-container\">\n",
       "    <div>\n",
       "<style scoped>\n",
       "    .dataframe tbody tr th:only-of-type {\n",
       "        vertical-align: middle;\n",
       "    }\n",
       "\n",
       "    .dataframe tbody tr th {\n",
       "        vertical-align: top;\n",
       "    }\n",
       "\n",
       "    .dataframe thead th {\n",
       "        text-align: right;\n",
       "    }\n",
       "</style>\n",
       "<table border=\"1\" class=\"dataframe\">\n",
       "  <thead>\n",
       "    <tr style=\"text-align: right;\">\n",
       "      <th></th>\n",
       "      <th>era5</th>\n",
       "      <th>graphcast</th>\n",
       "      <th>pangu</th>\n",
       "      <th>neuralgcm</th>\n",
       "      <th>ifshres</th>\n",
       "    </tr>\n",
       "  </thead>\n",
       "  <tbody>\n",
       "    <tr>\n",
       "      <th>era5</th>\n",
       "      <td>0.0</td>\n",
       "      <td>115.160156</td>\n",
       "      <td>125.908476</td>\n",
       "      <td>104.454006</td>\n",
       "      <td>124.894767</td>\n",
       "    </tr>\n",
       "    <tr>\n",
       "      <th>graphcast</th>\n",
       "      <td>115.160156</td>\n",
       "      <td>0.0</td>\n",
       "      <td>105.998268</td>\n",
       "      <td>102.279047</td>\n",
       "      <td>113.080117</td>\n",
       "    </tr>\n",
       "    <tr>\n",
       "      <th>pangu</th>\n",
       "      <td>125.908476</td>\n",
       "      <td>105.998268</td>\n",
       "      <td>0.0</td>\n",
       "      <td>104.273869</td>\n",
       "      <td>119.072937</td>\n",
       "    </tr>\n",
       "    <tr>\n",
       "      <th>neuralgcm</th>\n",
       "      <td>104.454006</td>\n",
       "      <td>102.279047</td>\n",
       "      <td>104.273869</td>\n",
       "      <td>0.0</td>\n",
       "      <td>111.085068</td>\n",
       "    </tr>\n",
       "    <tr>\n",
       "      <th>ifshres</th>\n",
       "      <td>124.894767</td>\n",
       "      <td>113.080117</td>\n",
       "      <td>119.072937</td>\n",
       "      <td>111.085068</td>\n",
       "      <td>0.0</td>\n",
       "    </tr>\n",
       "  </tbody>\n",
       "</table>\n",
       "</div>\n",
       "    <div class=\"colab-df-buttons\">\n",
       "\n",
       "  <div class=\"colab-df-container\">\n",
       "    <button class=\"colab-df-convert\" onclick=\"convertToInteractive('df-15843969-20b6-49df-8446-1e6d6649a7bc')\"\n",
       "            title=\"Convert this dataframe to an interactive table.\"\n",
       "            style=\"display:none;\">\n",
       "\n",
       "  <svg xmlns=\"http://www.w3.org/2000/svg\" height=\"24px\" viewBox=\"0 -960 960 960\">\n",
       "    <path d=\"M120-120v-720h720v720H120Zm60-500h600v-160H180v160Zm220 220h160v-160H400v160Zm0 220h160v-160H400v160ZM180-400h160v-160H180v160Zm440 0h160v-160H620v160ZM180-180h160v-160H180v160Zm440 0h160v-160H620v160Z\"/>\n",
       "  </svg>\n",
       "    </button>\n",
       "\n",
       "  <style>\n",
       "    .colab-df-container {\n",
       "      display:flex;\n",
       "      gap: 12px;\n",
       "    }\n",
       "\n",
       "    .colab-df-convert {\n",
       "      background-color: #E8F0FE;\n",
       "      border: none;\n",
       "      border-radius: 50%;\n",
       "      cursor: pointer;\n",
       "      display: none;\n",
       "      fill: #1967D2;\n",
       "      height: 32px;\n",
       "      padding: 0 0 0 0;\n",
       "      width: 32px;\n",
       "    }\n",
       "\n",
       "    .colab-df-convert:hover {\n",
       "      background-color: #E2EBFA;\n",
       "      box-shadow: 0px 1px 2px rgba(60, 64, 67, 0.3), 0px 1px 3px 1px rgba(60, 64, 67, 0.15);\n",
       "      fill: #174EA6;\n",
       "    }\n",
       "\n",
       "    .colab-df-buttons div {\n",
       "      margin-bottom: 4px;\n",
       "    }\n",
       "\n",
       "    [theme=dark] .colab-df-convert {\n",
       "      background-color: #3B4455;\n",
       "      fill: #D2E3FC;\n",
       "    }\n",
       "\n",
       "    [theme=dark] .colab-df-convert:hover {\n",
       "      background-color: #434B5C;\n",
       "      box-shadow: 0px 1px 3px 1px rgba(0, 0, 0, 0.15);\n",
       "      filter: drop-shadow(0px 1px 2px rgba(0, 0, 0, 0.3));\n",
       "      fill: #FFFFFF;\n",
       "    }\n",
       "  </style>\n",
       "\n",
       "    <script>\n",
       "      const buttonEl =\n",
       "        document.querySelector('#df-15843969-20b6-49df-8446-1e6d6649a7bc button.colab-df-convert');\n",
       "      buttonEl.style.display =\n",
       "        google.colab.kernel.accessAllowed ? 'block' : 'none';\n",
       "\n",
       "      async function convertToInteractive(key) {\n",
       "        const element = document.querySelector('#df-15843969-20b6-49df-8446-1e6d6649a7bc');\n",
       "        const dataTable =\n",
       "          await google.colab.kernel.invokeFunction('convertToInteractive',\n",
       "                                                    [key], {});\n",
       "        if (!dataTable) return;\n",
       "\n",
       "        const docLinkHtml = 'Like what you see? Visit the ' +\n",
       "          '<a target=\"_blank\" href=https://colab.research.google.com/notebooks/data_table.ipynb>data table notebook</a>'\n",
       "          + ' to learn more about interactive tables.';\n",
       "        element.innerHTML = '';\n",
       "        dataTable['output_type'] = 'display_data';\n",
       "        await google.colab.output.renderOutput(dataTable, element);\n",
       "        const docLink = document.createElement('div');\n",
       "        docLink.innerHTML = docLinkHtml;\n",
       "        element.appendChild(docLink);\n",
       "      }\n",
       "    </script>\n",
       "  </div>\n",
       "\n",
       "\n",
       "    <div id=\"df-96327817-b1ed-4e99-b315-c5f1d9224b01\">\n",
       "      <button class=\"colab-df-quickchart\" onclick=\"quickchart('df-96327817-b1ed-4e99-b315-c5f1d9224b01')\"\n",
       "                title=\"Suggest charts\"\n",
       "                style=\"display:none;\">\n",
       "\n",
       "<svg xmlns=\"http://www.w3.org/2000/svg\" height=\"24px\"viewBox=\"0 0 24 24\"\n",
       "     width=\"24px\">\n",
       "    <g>\n",
       "        <path d=\"M19 3H5c-1.1 0-2 .9-2 2v14c0 1.1.9 2 2 2h14c1.1 0 2-.9 2-2V5c0-1.1-.9-2-2-2zM9 17H7v-7h2v7zm4 0h-2V7h2v10zm4 0h-2v-4h2v4z\"/>\n",
       "    </g>\n",
       "</svg>\n",
       "      </button>\n",
       "\n",
       "<style>\n",
       "  .colab-df-quickchart {\n",
       "      --bg-color: #E8F0FE;\n",
       "      --fill-color: #1967D2;\n",
       "      --hover-bg-color: #E2EBFA;\n",
       "      --hover-fill-color: #174EA6;\n",
       "      --disabled-fill-color: #AAA;\n",
       "      --disabled-bg-color: #DDD;\n",
       "  }\n",
       "\n",
       "  [theme=dark] .colab-df-quickchart {\n",
       "      --bg-color: #3B4455;\n",
       "      --fill-color: #D2E3FC;\n",
       "      --hover-bg-color: #434B5C;\n",
       "      --hover-fill-color: #FFFFFF;\n",
       "      --disabled-bg-color: #3B4455;\n",
       "      --disabled-fill-color: #666;\n",
       "  }\n",
       "\n",
       "  .colab-df-quickchart {\n",
       "    background-color: var(--bg-color);\n",
       "    border: none;\n",
       "    border-radius: 50%;\n",
       "    cursor: pointer;\n",
       "    display: none;\n",
       "    fill: var(--fill-color);\n",
       "    height: 32px;\n",
       "    padding: 0;\n",
       "    width: 32px;\n",
       "  }\n",
       "\n",
       "  .colab-df-quickchart:hover {\n",
       "    background-color: var(--hover-bg-color);\n",
       "    box-shadow: 0 1px 2px rgba(60, 64, 67, 0.3), 0 1px 3px 1px rgba(60, 64, 67, 0.15);\n",
       "    fill: var(--button-hover-fill-color);\n",
       "  }\n",
       "\n",
       "  .colab-df-quickchart-complete:disabled,\n",
       "  .colab-df-quickchart-complete:disabled:hover {\n",
       "    background-color: var(--disabled-bg-color);\n",
       "    fill: var(--disabled-fill-color);\n",
       "    box-shadow: none;\n",
       "  }\n",
       "\n",
       "  .colab-df-spinner {\n",
       "    border: 2px solid var(--fill-color);\n",
       "    border-color: transparent;\n",
       "    border-bottom-color: var(--fill-color);\n",
       "    animation:\n",
       "      spin 1s steps(1) infinite;\n",
       "  }\n",
       "\n",
       "  @keyframes spin {\n",
       "    0% {\n",
       "      border-color: transparent;\n",
       "      border-bottom-color: var(--fill-color);\n",
       "      border-left-color: var(--fill-color);\n",
       "    }\n",
       "    20% {\n",
       "      border-color: transparent;\n",
       "      border-left-color: var(--fill-color);\n",
       "      border-top-color: var(--fill-color);\n",
       "    }\n",
       "    30% {\n",
       "      border-color: transparent;\n",
       "      border-left-color: var(--fill-color);\n",
       "      border-top-color: var(--fill-color);\n",
       "      border-right-color: var(--fill-color);\n",
       "    }\n",
       "    40% {\n",
       "      border-color: transparent;\n",
       "      border-right-color: var(--fill-color);\n",
       "      border-top-color: var(--fill-color);\n",
       "    }\n",
       "    60% {\n",
       "      border-color: transparent;\n",
       "      border-right-color: var(--fill-color);\n",
       "    }\n",
       "    80% {\n",
       "      border-color: transparent;\n",
       "      border-right-color: var(--fill-color);\n",
       "      border-bottom-color: var(--fill-color);\n",
       "    }\n",
       "    90% {\n",
       "      border-color: transparent;\n",
       "      border-bottom-color: var(--fill-color);\n",
       "    }\n",
       "  }\n",
       "</style>\n",
       "\n",
       "      <script>\n",
       "        async function quickchart(key) {\n",
       "          const quickchartButtonEl =\n",
       "            document.querySelector('#' + key + ' button');\n",
       "          quickchartButtonEl.disabled = true;  // To prevent multiple clicks.\n",
       "          quickchartButtonEl.classList.add('colab-df-spinner');\n",
       "          try {\n",
       "            const charts = await google.colab.kernel.invokeFunction(\n",
       "                'suggestCharts', [key], {});\n",
       "          } catch (error) {\n",
       "            console.error('Error during call to suggestCharts:', error);\n",
       "          }\n",
       "          quickchartButtonEl.classList.remove('colab-df-spinner');\n",
       "          quickchartButtonEl.classList.add('colab-df-quickchart-complete');\n",
       "        }\n",
       "        (() => {\n",
       "          let quickchartButtonEl =\n",
       "            document.querySelector('#df-96327817-b1ed-4e99-b315-c5f1d9224b01 button');\n",
       "          quickchartButtonEl.style.display =\n",
       "            google.colab.kernel.accessAllowed ? 'block' : 'none';\n",
       "        })();\n",
       "      </script>\n",
       "    </div>\n",
       "\n",
       "  <div id=\"id_b710560a-7bfa-4bf3-be87-a7c4af5efeea\">\n",
       "    <style>\n",
       "      .colab-df-generate {\n",
       "        background-color: #E8F0FE;\n",
       "        border: none;\n",
       "        border-radius: 50%;\n",
       "        cursor: pointer;\n",
       "        display: none;\n",
       "        fill: #1967D2;\n",
       "        height: 32px;\n",
       "        padding: 0 0 0 0;\n",
       "        width: 32px;\n",
       "      }\n",
       "\n",
       "      .colab-df-generate:hover {\n",
       "        background-color: #E2EBFA;\n",
       "        box-shadow: 0px 1px 2px rgba(60, 64, 67, 0.3), 0px 1px 3px 1px rgba(60, 64, 67, 0.15);\n",
       "        fill: #174EA6;\n",
       "      }\n",
       "\n",
       "      [theme=dark] .colab-df-generate {\n",
       "        background-color: #3B4455;\n",
       "        fill: #D2E3FC;\n",
       "      }\n",
       "\n",
       "      [theme=dark] .colab-df-generate:hover {\n",
       "        background-color: #434B5C;\n",
       "        box-shadow: 0px 1px 3px 1px rgba(0, 0, 0, 0.15);\n",
       "        filter: drop-shadow(0px 1px 2px rgba(0, 0, 0, 0.3));\n",
       "        fill: #FFFFFF;\n",
       "      }\n",
       "    </style>\n",
       "    <button class=\"colab-df-generate\" onclick=\"generateWithVariable('pairwise_rmse_result')\"\n",
       "            title=\"Generate code using this dataframe.\"\n",
       "            style=\"display:none;\">\n",
       "\n",
       "  <svg xmlns=\"http://www.w3.org/2000/svg\" height=\"24px\"viewBox=\"0 0 24 24\"\n",
       "       width=\"24px\">\n",
       "    <path d=\"M7,19H8.4L18.45,9,17,7.55,7,17.6ZM5,21V16.75L18.45,3.32a2,2,0,0,1,2.83,0l1.4,1.43a1.91,1.91,0,0,1,.58,1.4,1.91,1.91,0,0,1-.58,1.4L9.25,21ZM18.45,9,17,7.55Zm-12,3A5.31,5.31,0,0,0,4.9,8.1,5.31,5.31,0,0,0,1,6.5,5.31,5.31,0,0,0,4.9,4.9,5.31,5.31,0,0,0,6.5,1,5.31,5.31,0,0,0,8.1,4.9,5.31,5.31,0,0,0,12,6.5,5.46,5.46,0,0,0,6.5,12Z\"/>\n",
       "  </svg>\n",
       "    </button>\n",
       "    <script>\n",
       "      (() => {\n",
       "      const buttonEl =\n",
       "        document.querySelector('#id_b710560a-7bfa-4bf3-be87-a7c4af5efeea button.colab-df-generate');\n",
       "      buttonEl.style.display =\n",
       "        google.colab.kernel.accessAllowed ? 'block' : 'none';\n",
       "\n",
       "      buttonEl.onclick = () => {\n",
       "        google.colab.notebook.generateWithVariable('pairwise_rmse_result');\n",
       "      }\n",
       "      })();\n",
       "    </script>\n",
       "  </div>\n",
       "\n",
       "    </div>\n",
       "  </div>\n"
      ],
      "text/plain": [
       "                 era5   graphcast       pangu   neuralgcm     ifshres\n",
       "era5              0.0  115.160156  125.908476  104.454006  124.894767\n",
       "graphcast  115.160156         0.0  105.998268  102.279047  113.080117\n",
       "pangu      125.908476  105.998268         0.0  104.273869  119.072937\n",
       "neuralgcm  104.454006  102.279047  104.273869         0.0  111.085068\n",
       "ifshres    124.894767  113.080117  119.072937  111.085068         0.0"
      ]
     },
     "execution_count": 12,
     "metadata": {},
     "output_type": "execute_result"
    }
   ],
   "source": [
    "# @title Calculate Pairwise RMSE for Selected Columns\n",
    "# Specify the columns for which to calculate pairwise RMSE\n",
    "columns_to_calculate = [ 'era5','graphcast', 'pangu', 'neuralgcm','ifshres']\n",
    "pairwise_rmse_result = calculate_pairwise_rmse(df_not_null, columns_to_calculate)\n",
    "pairwise_rmse_result"
   ]
  },
  {
   "cell_type": "code",
   "execution_count": null,
   "metadata": {
    "executionInfo": {
     "elapsed": 20,
     "status": "ok",
     "timestamp": 1749646607294,
     "user": {
      "displayName": "Josiah Kiarie KIMANI",
      "userId": "14842758841059902092"
     },
     "user_tz": -120
    },
    "id": "aBPKQ7JzSJDe"
   },
   "outputs": [],
   "source": [
    "# @title Convert Data Types and Create Mask\n",
    "# Convert the pairwise RMSE result to numeric, handling errors by coercing them to NaN\n",
    "pairwise_rmse_result = pairwise_rmse_result.apply(pd.to_numeric, errors='coerce')\n",
    "# Create a mask for the upper triangle excluding the main diagonal\n",
    "mask = np.triu(np.ones_like(pairwise_rmse_result, dtype=bool),k=1)"
   ]
  },
  {
   "cell_type": "code",
   "execution_count": null,
   "metadata": {
    "colab": {
     "base_uri": "https://localhost:8080/",
     "height": 587
    },
    "executionInfo": {
     "elapsed": 610,
     "status": "ok",
     "timestamp": 1749648650884,
     "user": {
      "displayName": "Josiah Kiarie KIMANI",
      "userId": "14842758841059902092"
     },
     "user_tz": -120
    },
    "id": "7Ygq_kDayZJC",
    "outputId": "aa698b3c-af66-446c-9c49-13b7b60065db"
   },
   "outputs": [
    {
     "data": {
      "image/png": "[encoded data removed]",
      "text/plain": [
       "<Figure size 800x600 with 2 Axes>"
      ]
     },
     "metadata": {},
     "output_type": "display_data"
    }
   ],
   "source": [
    "# @title Plot Pairwise RMSE Heatmap\n",
    "# This function plots a heatmap of the pairwise RMSE results with annotations.\n",
    "def pairwise_rmse_heatmap(rmse_result, mask, save_path):\n",
    "  plt.rcParams['axes.titlesize'] = 14\n",
    "  # plt.rcParams['axes.labelsize'] = 14\n",
    "  plt.rcParams['xtick.labelsize'] = 12\n",
    "  plt.rcParams['ytick.labelsize'] = 12\n",
    "  plt.figure(figsize=(8,6))\n",
    "  sns.heatmap(rmse_result,mask=mask, annot=True, cmap='coolwarm', center=0, fmt='.2f')\n",
    "  # plt.title('Pairwise RMSE (meters) Matrix of AIWP Models at 72 Hours Lead Time 2020 Forecasts', pad=10)\n",
    "  plt.xticks(rotation=45, ha='right')  # Rotate x-axis labels 45° and align right\n",
    "  plt.yticks(rotation=0)  # Keep y-axis labels horizontal\n",
    "  plt.grid(False)\n",
    "  plt.savefig(save_path +'Pairwise RMSE Matrix of AIWP Models at 72 Hours Lead Time 2020 Forecasts.pdf', dpi=300, bbox_inches=\"tight\")\n",
    "  plt.show()\n",
    "\n",
    "pairwise_rmse_heatmap(pairwise_rmse_result, mask, data_drive_plot)"
   ]
  },
  {
   "cell_type": "markdown",
   "metadata": {
    "id": "jHIaSq6Jqemw"
   },
   "source": [
    "Do they equal RMSE of 115? Yes they do! ✅"
   ]
  },
  {
   "cell_type": "code",
   "execution_count": 20,
   "metadata": {
    "colab": {
     "base_uri": "https://localhost:8080/"
    },
    "executionInfo": {
     "elapsed": 50,
     "status": "ok",
     "timestamp": 1749648743397,
     "user": {
      "displayName": "Josiah Kiarie KIMANI",
      "userId": "14842758841059902092"
     },
     "user_tz": -120
    },
    "id": "wbBNSNnFAWT4",
    "outputId": "f7bc3263-f933-4bba-e5ea-8ade0cc11c1d"
   },
   "outputs": [
    {
     "data": {
      "text/plain": [
       "array([[  0.        , 115.16015644, 125.90847575, 104.45400604,\n",
       "        124.89476667],\n",
       "       [115.16015644,   0.        , 105.99826804, 102.27904686,\n",
       "        113.08011652],\n",
       "       [125.90847575, 105.99826804,   0.        , 104.27386937,\n",
       "        119.07293684],\n",
       "       [104.45400604, 102.27904686, 104.27386937,   0.        ,\n",
       "        111.0850685 ],\n",
       "       [124.89476667, 113.08011652, 119.07293684, 111.0850685 ,\n",
       "          0.        ]])"
      ]
     },
     "execution_count": 20,
     "metadata": {},
     "output_type": "execute_result"
    }
   ],
   "source": [
    "pairwise_rmse_result.values"
   ]
  },
  {
   "cell_type": "code",
   "execution_count": 21,
   "metadata": {
    "colab": {
     "base_uri": "https://localhost:8080/"
    },
    "executionInfo": {
     "elapsed": 925,
     "status": "ok",
     "timestamp": 1749648746345,
     "user": {
      "displayName": "Josiah Kiarie KIMANI",
      "userId": "14842758841059902092"
     },
     "user_tz": -120
    },
    "id": "Bqm-jMf5ixKU",
    "outputId": "3022286b-3278-4507-f326-17dfd1db7984"
   },
   "outputs": [
    {
     "name": "stderr",
     "output_type": "stream",
     "text": [
      "/usr/local/lib/python3.11/dist-packages/sklearn/manifold/_mds.py:677: FutureWarning: The default value of `n_init` will change from 4 to 1 in 1.9.\n",
      "  warnings.warn(\n"
     ]
    }
   ],
   "source": [
    "# @title MDS Using raw stress\n",
    "\n",
    "import numpy as np\n",
    "import matplotlib.pyplot as plt\n",
    "from sklearn.manifold import MDS\n",
    "\n",
    "# Convert the filtered DataFrame to a NumPy array\n",
    "distance_matrix = pairwise_rmse_result.values\n",
    "\n",
    "# Apply MDS using the precomputed distance matrix\n",
    "mds = MDS(n_components=2, dissimilarity='precomputed', random_state=2)\n",
    "coords = mds.fit_transform(distance_matrix)"
   ]
  },
  {
   "cell_type": "code",
   "execution_count": 22,
   "metadata": {
    "colab": {
     "base_uri": "https://localhost:8080/"
    },
    "executionInfo": {
     "elapsed": 12,
     "status": "ok",
     "timestamp": 1749648748400,
     "user": {
      "displayName": "Josiah Kiarie KIMANI",
      "userId": "14842758841059902092"
     },
     "user_tz": -120
    },
    "id": "ssrKURLaRGd4",
    "outputId": "b69d0e23-d1d8-460d-a07f-8e6b6c0339f3"
   },
   "outputs": [
    {
     "data": {
      "text/plain": [
       "array([[ 49.02357508, -64.83887455],\n",
       "       [ 56.76253084,  27.20556207],\n",
       "       [ -5.51119413,  71.92042715],\n",
       "       [-22.15569426, -43.77553749],\n",
       "       [-78.11921752,   9.48842282]])"
      ]
     },
     "execution_count": 22,
     "metadata": {},
     "output_type": "execute_result"
    }
   ],
   "source": [
    "coords"
   ]
  },
  {
   "cell_type": "code",
   "execution_count": 23,
   "metadata": {
    "colab": {
     "base_uri": "https://localhost:8080/"
    },
    "executionInfo": {
     "elapsed": 15,
     "status": "ok",
     "timestamp": 1749648749319,
     "user": {
      "displayName": "Josiah Kiarie KIMANI",
      "userId": "14842758841059902092"
     },
     "user_tz": -120
    },
    "id": "qr5_c3uHRIfG",
    "outputId": "eaaf5605-4dd0-404e-d328-e3124e8964f0"
   },
   "outputs": [
    {
     "name": "stdout",
     "output_type": "stream",
     "text": [
      "MDS Raw stress: 5637.87\n"
     ]
    }
   ],
   "source": [
    "print(f\"MDS Raw stress: {mds.stress_:.2f}\")"
   ]
  },
  {
   "cell_type": "code",
   "execution_count": null,
   "metadata": {
    "executionInfo": {
     "elapsed": 5,
     "status": "ok",
     "timestamp": 1749648759040,
     "user": {
      "displayName": "Josiah Kiarie KIMANI",
      "userId": "14842758841059902092"
     },
     "user_tz": -120
    },
    "id": "zkFebOLGsN9I"
   },
   "outputs": [],
   "source": [
    "# @title Plot MDS plot\n",
    "# This function plots the MDS coordinates with annotations for each label.\n",
    "\n",
    "color_dict = {\n",
    "    \"graphcast\": \"#ffbe0b\",\n",
    "    \"pangu\": \"#fb5607\",\n",
    "    \"neuralgcm\": \"#ff006e\",\n",
    "    \"ifshres\": \"#3a86ff\"\n",
    "}\n",
    "\n",
    "def plot_mds_coords(labels, color_dict, coords, save_path):\n",
    "  plt.figure(figsize=(8, 6))\n",
    "  for i, label in enumerate(labels):\n",
    "      print(f'index = {i} and label = {label}')\n",
    "      # Use black for ERA5, otherwise find the first matching key in color_dict\n",
    "      dataset_color = 'black' if 'era5' in label else next((color for key, color in color_dict.items() if key in label), None)\n",
    "      if dataset_color is None:\n",
    "          continue\n",
    "      plt.scatter(coords[i, 0], coords[i, 1], color=dataset_color, edgecolors=dataset_color, alpha=1, s=80)\n",
    "      plt.annotate(label, (coords[i, 0], coords[i, 1]))\n",
    "\n",
    "  # plt.title('MDS of Pairwise RMSE (72h Lead Time) 2020 Forecasts')\n",
    "  plt.xlabel('Dimension 1')\n",
    "  plt.ylabel('Dimension 2')\n",
    "  plt.xlim([-100, 100])\n",
    "  plt.ylim([-100, 100])\n",
    "  plt.grid(True)\n",
    "  plt.savefig(f'{save_path}MDS of Pairwise RMSE (72h Lead Time) 2020 Forecasts.pdf', dpi=300, bbox_inches=\"tight\")\n",
    "  plt.show()\n",
    "\n"
   ]
  },
  {
   "cell_type": "code",
   "execution_count": null,
   "metadata": {
    "colab": {
     "base_uri": "https://localhost:8080/",
     "height": 648
    },
    "executionInfo": {
     "elapsed": 1245,
     "status": "ok",
     "timestamp": 1749648766401,
     "user": {
      "displayName": "Josiah Kiarie KIMANI",
      "userId": "14842758841059902092"
     },
     "user_tz": -120
    },
    "id": "ICNCPDznodMo",
    "outputId": "8a2bd62e-7ab0-43c8-f4d0-2ee583d8a3d5"
   },
   "outputs": [
    {
     "name": "stdout",
     "output_type": "stream",
     "text": [
      "index = 0 and label = era5\n",
      "index = 1 and label = graphcast\n",
      "index = 2 and label = pangu\n",
      "index = 3 and label = neuralgcm\n",
      "index = 4 and label = ifshres\n"
     ]
    },
    {
     "data": {
      "image/png": "[encoded data removed]",
      "text/plain": [
       "<Figure size 800x600 with 1 Axes>"
      ]
     },
     "metadata": {},
     "output_type": "display_data"
    }
   ],
   "source": [
    "plot_mds_coords(pairwise_rmse_result.index, color_dict, coords, data_drive_plot)"
   ]
  },
  {
   "cell_type": "code",
   "execution_count": null,
   "metadata": {
    "colab": {
     "base_uri": "https://localhost:8080/"
    },
    "executionInfo": {
     "elapsed": 14,
     "status": "ok",
     "timestamp": 1749648924841,
     "user": {
      "displayName": "Josiah Kiarie KIMANI",
      "userId": "14842758841059902092"
     },
     "user_tz": -120
    },
    "id": "eUDSe5JPXzoa",
    "outputId": "160f4322-35ac-46a0-e32a-d131a5d96845"
   },
   "outputs": [
    {
     "name": "stdout",
     "output_type": "stream",
     "text": [
      "ERA5        : 0.00\n",
      "GraphCast   : 92.37\n",
      "Pangu       : 147.23\n",
      "NeuralGCM   : 74.23\n",
      "IFSHRES     : 147.27\n"
     ]
    }
   ],
   "source": [
    "# @title Distance to ERA5\n",
    "# This section calculates the Euclidean distance of each model's MDS coordinates from the ERA5 coordinates and prints the results.\n",
    "# Calculate the Euclidean distance of each model's coordinates from the ERA5 coordinates\n",
    "distances = np.linalg.norm(coords - coords[0], axis=1)\n",
    "model_names = ['ERA5', 'GraphCast', 'Pangu', 'NeuralGCM', 'IFSHRES']\n",
    "for name, dist in zip(model_names, distances):\n",
    "    print(f\"{name:12s}: {dist:.2f}\")"
   ]
  },
  {
   "cell_type": "code",
   "execution_count": null,
   "metadata": {
    "executionInfo": {
     "elapsed": 54,
     "status": "ok",
     "timestamp": 1749648932699,
     "user": {
      "displayName": "Josiah Kiarie KIMANI",
      "userId": "14842758841059902092"
     },
     "user_tz": -120
    },
    "id": "L237LduFUYf8"
   },
   "outputs": [],
   "source": [
    "# @title Plot MDS with ERA5 as Reference\n",
    "# This function plots the MDS coordinates with ERA5 as the reference point at the origin (0, 0).\n",
    "def plot_mds_with_era5_as_reference(coords, labels, color_dict, save_path):\n",
    "    # Translate coordinates so ERA5 is at the origin\n",
    "    ref_coord = coords[0]\n",
    "    translated_coords = coords - ref_coord  # ERA5 becomes (0, 0)\n",
    "\n",
    "\n",
    "    plt.rcParams['axes.titlesize'] = 14\n",
    "    plt.rcParams['axes.labelsize'] = 12\n",
    "    plt.rcParams['xtick.labelsize'] = 10\n",
    "    plt.rcParams['ytick.labelsize'] = 10\n",
    "\n",
    "    plt.figure(figsize=(8, 6))\n",
    "\n",
    "    for i, label in enumerate(labels):\n",
    "        dataset_color = 'black' if 'era5' in label else next((color for key, color in color_dict.items() if key in label), None)\n",
    "        if dataset_color is None:\n",
    "            continue\n",
    "        x, y = translated_coords[i]\n",
    "        plt.scatter(x, y, color=dataset_color, edgecolors=dataset_color, alpha=1, s=80)\n",
    "        plt.annotate(label, (x, y), textcoords=\"offset points\", xytext=(5,5), ha='left')\n",
    "\n",
    "    plt.axhline(0, color='black', linewidth=0.5, linestyle='--')\n",
    "    plt.axvline(0, color='black', linewidth=0.5, linestyle='--')\n",
    "    # plt.title('MDS with ERA5 as Reference (72h Lead Time) 2020 Forecasts')\n",
    "    plt.xlabel('Dimension 1 (relative to ERA5)')\n",
    "    plt.ylabel('Dimension 2 (relative to ERA5)')\n",
    "    # plt.xlim([-200, 200])\n",
    "    # plt.ylim([-200, 200])\n",
    "    plt.grid(True)\n",
    "    plt.savefig(save_path + \"MDS with ERA5 as Reference (72h Lead Time) 2020 Forecasts.pdf\" , dpi=300, bbox_inches=\"tight\")\n",
    "    plt.show()\n",
    "\n"
   ]
  },
  {
   "cell_type": "code",
   "execution_count": null,
   "metadata": {
    "colab": {
     "base_uri": "https://localhost:8080/",
     "height": 549
    },
    "executionInfo": {
     "elapsed": 2109,
     "status": "ok",
     "timestamp": 1749648938991,
     "user": {
      "displayName": "Josiah Kiarie KIMANI",
      "userId": "14842758841059902092"
     },
     "user_tz": -120
    },
    "id": "VJG5GSKhoLTg",
    "outputId": "b7447bf1-d4d2-4d3d-8703-7f8459f7cab6"
   },
   "outputs": [
    {
     "data": {
      "image/png": "[encoded data removed]",
      "text/plain": [
       "<Figure size 800x600 with 1 Axes>"
      ]
     },
     "metadata": {},
     "output_type": "display_data"
    }
   ],
   "source": [
    "plot_mds_with_era5_as_reference(coords, pairwise_rmse_result.index, color_dict,data_drive_plot )\n"
   ]
  },
  {
   "cell_type": "code",
   "execution_count": null,
   "metadata": {
    "executionInfo": {
     "elapsed": 4932,
     "status": "ok",
     "timestamp": 1749648954291,
     "user": {
      "displayName": "Josiah Kiarie KIMANI",
      "userId": "14842758841059902092"
     },
     "user_tz": -120
    },
    "id": "Q31qbU9p0_9i"
   },
   "outputs": [],
   "source": [
    "# @title Apply MDS using normalized stress\n",
    "# This section applies MDS with normalized stress to the pairwise RMSE distance matrix.\n",
    "mds_stress_1 = MDS(n_components=2, metric=True, n_init=4, max_iter=300, eps=1e-6,\n",
    "                   n_jobs=-1,random_state=2,\n",
    "                   dissimilarity='precomputed', normalized_stress=True\n",
    "                   )\n",
    "coords_stress_1 = mds_stress_1.fit_transform(distance_matrix)"
   ]
  },
  {
   "cell_type": "code",
   "execution_count": null,
   "metadata": {
    "colab": {
     "base_uri": "https://localhost:8080/"
    },
    "executionInfo": {
     "elapsed": 29,
     "status": "ok",
     "timestamp": 1749648966392,
     "user": {
      "displayName": "Josiah Kiarie KIMANI",
      "userId": "14842758841059902092"
     },
     "user_tz": -120
    },
    "id": "PmJ8PupoRaRS",
    "outputId": "6a37bd2f-46a0-4c5a-af0b-890a9aac0328"
   },
   "outputs": [
    {
     "name": "stdout",
     "output_type": "stream",
     "text": [
      "Normalised Stress: 0.22\n"
     ]
    }
   ],
   "source": [
    "# @title Plot MDS with Normalized Stress\n",
    "print(f'Normalised Stress: {mds_stress_1.stress_:.2f}')"
   ]
  },
  {
   "cell_type": "markdown",
   "metadata": {
    "id": "8DsRV9b7oNui"
   },
   "source": [
    "| Normalized Stress | Interpretation  |\n",
    "| ----------------- | --------------- |\n",
    "| ≤ 0.05            | Excellent fit   |\n",
    "| 0.05–0.10         | Good fit        |\n",
    "| 0.10–0.20         | Fair            |\n",
    "| > 0.20            | Poor fit        |"
   ]
  },
  {
   "cell_type": "code",
   "execution_count": 31,
   "metadata": {
    "colab": {
     "base_uri": "https://localhost:8080/"
    },
    "executionInfo": {
     "elapsed": 31,
     "status": "ok",
     "timestamp": 1749648969195,
     "user": {
      "displayName": "Josiah Kiarie KIMANI",
      "userId": "14842758841059902092"
     },
     "user_tz": -120
    },
    "id": "MkkmRG6CWlh3",
    "outputId": "31f0aaca-4997-4a71-d6a9-da2b90dda7cd"
   },
   "outputs": [
    {
     "data": {
      "text/plain": [
       "array([[ 46.2201964 , -66.87642078],\n",
       "       [ 57.87484486,  24.78784882],\n",
       "       [ -2.47613752,  72.09187509],\n",
       "       [-23.95545117, -42.75618013],\n",
       "       [-77.66345257,  12.752877  ]])"
      ]
     },
     "execution_count": 31,
     "metadata": {},
     "output_type": "execute_result"
    }
   ],
   "source": [
    "coords_stress_1"
   ]
  },
  {
   "cell_type": "code",
   "execution_count": null,
   "metadata": {
    "colab": {
     "base_uri": "https://localhost:8080/",
     "height": 642
    },
    "executionInfo": {
     "elapsed": 516,
     "status": "ok",
     "timestamp": 1749649025616,
     "user": {
      "displayName": "Josiah Kiarie KIMANI",
      "userId": "14842758841059902092"
     },
     "user_tz": -120
    },
    "id": "WnW4m5fKWu1i",
    "outputId": "302efbf3-11ed-430d-ee33-98d7942f376d"
   },
   "outputs": [
    {
     "name": "stdout",
     "output_type": "stream",
     "text": [
      "index = 0 and label = era5\n",
      "index = 1 and label = graphcast\n",
      "index = 2 and label = pangu\n",
      "index = 3 and label = neuralgcm\n",
      "index = 4 and label = ifshres\n"
     ]
    },
    {
     "data": {
      "image/png": "[encoded data removed]",
      "text/plain": [
       "<Figure size 800x600 with 1 Axes>"
      ]
     },
     "metadata": {},
     "output_type": "display_data"
    }
   ],
   "source": [
    "plot_mds_coords(pairwise_rmse_result.index, color_dict, coords_stress_1, data_drive_plot)\n"
   ]
  },
  {
   "cell_type": "code",
   "execution_count": null,
   "metadata": {
    "colab": {
     "base_uri": "https://localhost:8080/"
    },
    "executionInfo": {
     "elapsed": 49,
     "status": "ok",
     "timestamp": 1749649137493,
     "user": {
      "displayName": "Josiah Kiarie KIMANI",
      "userId": "14842758841059902092"
     },
     "user_tz": -120
    },
    "id": "cSwRbLNWk6VW",
    "outputId": "afc53ecc-a54a-4a4e-90cc-ca9e62efe9f9"
   },
   "outputs": [
    {
     "name": "stdout",
     "output_type": "stream",
     "text": [
      "ERA5        : 0.00\n",
      "GraphCast   : 92.40\n",
      "Pangu       : 147.25\n",
      "NeuralGCM   : 74.21\n",
      "IFSHRES     : 147.27\n"
     ]
    }
   ],
   "source": [
    "# @title Distance to ERA5 using Coord_strees_1\n",
    "# This section calculates the Euclidean distance of each model's MDS coordinates with normalized stress from the ERA5 coordinates and prints the results.\n",
    "# Calculate the Euclidean distance of each model's coordinates from the ERA5 coordinates\n",
    "distances = np.linalg.norm(coords_stress_1 - coords_stress_1[0], axis=1)\n",
    "model_names = ['ERA5', 'GraphCast', 'Pangu', 'NeuralGCM', 'IFSHRES']\n",
    "for name, dist in zip(model_names, distances):\n",
    "    print(f\"{name:12s}: {dist:.2f}\")"
   ]
  },
  {
   "cell_type": "code",
   "execution_count": null,
   "metadata": {
    "colab": {
     "base_uri": "https://localhost:8080/",
     "height": 549
    },
    "executionInfo": {
     "elapsed": 529,
     "status": "ok",
     "timestamp": 1749649144973,
     "user": {
      "displayName": "Josiah Kiarie KIMANI",
      "userId": "14842758841059902092"
     },
     "user_tz": -120
    },
    "id": "cOPRRE09pcIb",
    "outputId": "0691240e-840a-4fbf-fee1-f30a82d9913e"
   },
   "outputs": [
    {
     "data": {
      "image/png": "[encoded data removed]",
      "text/plain": [
       "<Figure size 800x600 with 1 Axes>"
      ]
     },
     "metadata": {},
     "output_type": "display_data"
    }
   ],
   "source": [
    "plot_mds_with_era5_as_reference(coords_stress_1, pairwise_rmse_result.index, color_dict,data_drive_plot )\n"
   ]
  },
  {
   "cell_type": "code",
   "execution_count": null,
   "metadata": {
    "colab": {
     "base_uri": "https://localhost:8080/",
     "height": 612
    },
    "executionInfo": {
     "elapsed": 367,
     "status": "ok",
     "timestamp": 1749649565979,
     "user": {
      "displayName": "Josiah Kiarie KIMANI",
      "userId": "14842758841059902092"
     },
     "user_tz": -120
    },
    "id": "2X6bRc0xaVjk",
    "outputId": "be39b94f-d6d8-4d06-c265-d00569d6f7e6"
   },
   "outputs": [
    {
     "data": {
      "image/png": "[encoded data removed]",
      "text/plain": [
       "<Figure size 1000x600 with 1 Axes>"
      ]
     },
     "metadata": {},
     "output_type": "display_data"
    }
   ],
   "source": [
    "# @title Create the dendrogram plot\n",
    "# This section creates a dendrogram plot using hierarchical clustering on the pairwise RMSE results.\n",
    "from scipy.cluster.hierarchy import dendrogram, linkage\n",
    "from scipy.spatial.distance import squareform\n",
    "\n",
    "# Convert the DataFrame to a NumPy array\n",
    "distance_matrix = pairwise_rmse_result.values\n",
    "\n",
    "# Since the RMSE matrix is symmetric and represents distances,\n",
    "# convert it to a condensed distance matrix\n",
    "condensed_distance = squareform(distance_matrix)\n",
    "\n",
    "# Compute the linkage matrix using a method of your choice (e.g., 'average')\n",
    "Z = linkage(condensed_distance, method='average')\n",
    "\n",
    "# Create the dendrogram plot\n",
    "plt.rcParams['axes.titlesize'] = 16\n",
    "plt.rcParams['axes.labelsize'] = 14\n",
    "plt.rcParams['xtick.labelsize'] = 14\n",
    "plt.rcParams['ytick.labelsize'] = 14\n",
    "plt.figure(figsize=(10, 6))\n",
    "\n",
    "# plt.figure(figsize=(12, 8))\n",
    "dendrogram(Z, labels=pairwise_rmse_result.index, leaf_rotation=90)\n",
    "# plt.title('Hierarchical Clustering Dendrogram of Pairwise RMSE of Models(72h Lead Time)')\n",
    "plt.xlabel('Models over 72hours lead time')\n",
    "plt.ylabel('Distance')\n",
    "plt.xticks(rotation=45, ha='right')  # Rotate x-axis labels 45° and align right\n",
    "\n",
    "\n",
    "plt.savefig(data_drive_plot + f'Hierarchical Clustering Dendrogram of Pairwise RMSE of Models(72h Lead Time).pdf', dpi=300, bbox_inches=\"tight\")\n",
    "\n",
    "plt.show()\n"
   ]
  },
  {
   "cell_type": "markdown",
   "metadata": {
    "id": "yH9ajfQdqo3M"
   },
   "source": [
    "## Additional Exploration on the effect of the number of MDS components"
   ]
  },
  {
   "cell_type": "code",
   "execution_count": null,
   "metadata": {
    "colab": {
     "base_uri": "https://localhost:8080/"
    },
    "executionInfo": {
     "elapsed": 617,
     "status": "ok",
     "timestamp": 1749308648338,
     "user": {
      "displayName": "Josiah Kiarie KIMANI",
      "userId": "14842758841059902092"
     },
     "user_tz": -120
    },
    "id": "0ELg2CJqxDAb",
    "outputId": "2e92851d-a758-41c8-a02a-281bfa563942"
   },
   "outputs": [
    {
     "name": "stdout",
     "output_type": "stream",
     "text": [
      "                 era5   graphcast       pangu   neuralgcm     ifshres\n",
      "era5              0.0  115.160156  125.908476  104.454006  124.894767\n",
      "graphcast  115.160156         0.0  105.998268  102.279047  113.080117\n",
      "pangu      125.908476  105.998268         0.0  104.273869  119.072937\n",
      "neuralgcm  104.454006  102.279047  104.273869         0.0  111.085068\n",
      "ifshres    124.894767  113.080117  119.072937  111.085068         0.0\n"
     ]
    }
   ],
   "source": [
    "# @title 3D MDS\n",
    "# This section applies MDS with normalized stress to the pairwise RMSE distance matrix and visualizes it in 3D.\n",
    "\n",
    "columns_to_calculate_test = ['era5','graphcast', 'pangu', 'neuralgcm','ifshres']\n",
    "pairwise_rmse_result_test = calculate_pairwise_rmse(df_not_null, columns_to_calculate_test)\n",
    "print(pairwise_rmse_result_test)\n",
    "\n",
    "\n",
    "mds_test = MDS(n_components=3,metric=True, n_init=4, max_iter=300, eps=1e-6,\n",
    "                   n_jobs=-1,random_state=2,\n",
    "                   dissimilarity='precomputed', normalized_stress=True)\n",
    "coords_test = mds_test.fit_transform(pairwise_rmse_result_test)"
   ]
  },
  {
   "cell_type": "code",
   "execution_count": null,
   "metadata": {
    "colab": {
     "base_uri": "https://localhost:8080/"
    },
    "executionInfo": {
     "elapsed": 35,
     "status": "ok",
     "timestamp": 1749308650971,
     "user": {
      "displayName": "Josiah Kiarie KIMANI",
      "userId": "14842758841059902092"
     },
     "user_tz": -120
    },
    "id": "KOVfLtCDB9sU",
    "outputId": "e367405d-cb17-4a51-ea0c-5daf3045ff94"
   },
   "outputs": [
    {
     "data": {
      "text/plain": [
       "array([[ 66.1740657 , -36.99755297,  20.84709648],\n",
       "       [-12.94664768,  17.42822072,  60.34479249],\n",
       "       [-70.13487389, -23.88421202,  -2.91455827],\n",
       "       [  7.87251345, -28.40805445, -50.54019713],\n",
       "       [  9.03494243,  71.86159872, -27.73713356]])"
      ]
     },
     "execution_count": 47,
     "metadata": {},
     "output_type": "execute_result"
    }
   ],
   "source": [
    "coords_test"
   ]
  },
  {
   "cell_type": "code",
   "execution_count": null,
   "metadata": {
    "colab": {
     "base_uri": "https://localhost:8080/"
    },
    "executionInfo": {
     "elapsed": 45,
     "status": "ok",
     "timestamp": 1749308653115,
     "user": {
      "displayName": "Josiah Kiarie KIMANI",
      "userId": "14842758841059902092"
     },
     "user_tz": -120
    },
    "id": "iTmypw2UUU2U",
    "outputId": "79eca294-8b30-438b-cc2d-151facde9b0b"
   },
   "outputs": [
    {
     "name": "stdout",
     "output_type": "stream",
     "text": [
      "Normalised stress: 0.1031\n"
     ]
    }
   ],
   "source": [
    "print(f\"Normalised stress: {mds_test.stress_:.4f}\")\n"
   ]
  },
  {
   "cell_type": "code",
   "execution_count": null,
   "metadata": {
    "colab": {
     "base_uri": "https://localhost:8080/",
     "height": 801
    },
    "executionInfo": {
     "elapsed": 647,
     "status": "ok",
     "timestamp": 1749308662906,
     "user": {
      "displayName": "Josiah Kiarie KIMANI",
      "userId": "14842758841059902092"
     },
     "user_tz": -120
    },
    "id": "7KtAZgy4U0WW",
    "outputId": "f4aec55a-72fc-4956-e7c8-bd30a48fb051"
   },
   "outputs": [
    {
     "data": {
      "image/png": "[encoded data removed]",
      "text/plain": [
       "<Figure size 1000x800 with 1 Axes>"
      ]
     },
     "metadata": {},
     "output_type": "display_data"
    }
   ],
   "source": [
    "# @title Plot 3D MDS\n",
    "# This section plots the 3D MDS coordinates with annotations for each label.\n",
    "from mpl_toolkits.mplot3d import Axes3D\n",
    "\n",
    "labels = pairwise_rmse_result.index\n",
    "fig = plt.figure(figsize=(10, 8))\n",
    "ax = fig.add_subplot(111, projection='3d')\n",
    "\n",
    "for i, label in enumerate(labels):\n",
    "    color = 'black' if 'era5' in label else color_dict.get(label, 'gray')\n",
    "    ax.scatter(coords_test[i, 0], coords_test[i, 1], coords_test[i, 2],\n",
    "               color=color, s=100)\n",
    "    ax.text(coords_test[i, 0], coords_test[i, 1], coords_test[i, 2],\n",
    "            label, fontsize=10)\n",
    "\n",
    "ax.set_title('3D MDS of Pairwise RMSE (72h Lead Time)')\n",
    "ax.set_xlabel('Dimension 1')\n",
    "ax.set_ylabel('Dimension 2')\n",
    "ax.set_zlabel('Dimension 3')\n",
    "plt.tight_layout()\n",
    "plt.show()\n"
   ]
  },
  {
   "cell_type": "code",
   "execution_count": null,
   "metadata": {
    "colab": {
     "base_uri": "https://localhost:8080/"
    },
    "executionInfo": {
     "elapsed": 76,
     "status": "ok",
     "timestamp": 1749308667815,
     "user": {
      "displayName": "Josiah Kiarie KIMANI",
      "userId": "14842758841059902092"
     },
     "user_tz": -120
    },
    "id": "HRASodtGWbrq",
    "outputId": "846a68f4-2fa3-4866-eef4-fab62ae3746b"
   },
   "outputs": [
    {
     "name": "stdout",
     "output_type": "stream",
     "text": [
      "ERA5        : 0.00\n",
      "GraphCast   : 103.84\n",
      "Pangu       : 138.98\n",
      "NeuralGCM   : 92.57\n",
      "IFSHRES     : 132.20\n"
     ]
    }
   ],
   "source": [
    "# @title Distance to ERA5\n",
    "# This section calculates the Euclidean distance of each model's 3D MDS coordinates from the ERA5 coordinates and prints the results.\n",
    "# Calculate the Euclidean distance of each model's coordinates from the ERA5 coordinates\n",
    "distances = np.linalg.norm(coords_test - coords_test[0], axis=1)\n",
    "model_names = ['ERA5', 'GraphCast', 'Pangu', 'NeuralGCM', 'IFSHRES']\n",
    "for name, dist in zip(model_names, distances):\n",
    "    print(f\"{name:12s}: {dist:.2f}\")\n"
   ]
  },
  {
   "cell_type": "code",
   "execution_count": null,
   "metadata": {
    "colab": {
     "base_uri": "https://localhost:8080/",
     "height": 542
    },
    "executionInfo": {
     "elapsed": 243,
     "status": "ok",
     "timestamp": 1749308670855,
     "user": {
      "displayName": "Josiah Kiarie KIMANI",
      "userId": "14842758841059902092"
     },
     "user_tz": -120
    },
    "id": "mGRDlGLSVKH1",
    "outputId": "6bdd9256-282e-4311-b114-50ca4da8d3c9"
   },
   "outputs": [
    {
     "data": {
      "text/html": [
       "<html>\n",
       "<head><meta charset=\"utf-8\" /></head>\n",
       "<body>\n",
       "    <div>            <script src=\"https://cdnjs.cloudflare.com/ajax/libs/mathjax/2.7.5/MathJax.js?config=TeX-AMS-MML_SVG\"></script><script type=\"text/javascript\">if (window.MathJax && window.MathJax.Hub && window.MathJax.Hub.Config) {window.MathJax.Hub.Config({SVG: {font: \"STIX-Web\"}});}</script>                <script type=\"text/javascript\">window.PlotlyConfig = {MathJaxConfig: 'local'};</script>\n",
       "        <script charset=\"utf-8\" src=\"https://cdn.plot.ly/plotly-2.35.2.min.js\"></script>                <div id=\"07b983a6-7b16-4c70-8012-2f66286243f9\" class=\"plotly-graph-div\" style=\"height:525px; width:100%;\"></div>            <script type=\"text/javascript\">                                    window.PLOTLYENV=window.PLOTLYENV || {};                                    if (document.getElementById(\"07b983a6-7b16-4c70-8012-2f66286243f9\")) {                    Plotly.newPlot(                        \"07b983a6-7b16-4c70-8012-2f66286243f9\",                        [{\"marker\":{\"color\":[\"black\",\"#ffbe0b\",\"#fb5607\",\"#ff006e\",\"#3a86ff\"],\"size\":6},\"mode\":\"markers+text\",\"text\":[\"era5\",\"graphcast\",\"pangu\",\"neuralgcm\",\"ifshres\"],\"textposition\":\"top center\",\"x\":[66.17406569763112,-12.946647680125617,-70.13487389287616,7.872513450013087,9.034942425357562],\"y\":[-36.997552972511805,17.428220719137833,-23.884212015155956,-28.408054454114495,71.86159872264442],\"z\":[20.847096482388945,60.344792486913015,-2.9145582712461517,-50.54019713345978,-27.737133564596032],\"type\":\"scatter3d\"}],                        {\"scene\":{\"xaxis\":{\"title\":{\"text\":\"Dimension 1\"}},\"yaxis\":{\"title\":{\"text\":\"Dimension 2\"}},\"zaxis\":{\"title\":{\"text\":\"Dimension 3\"}}},\"title\":{\"text\":\"3D MDS of Pairwise RMSE (72h Lead Time)\"},\"template\":{\"data\":{\"histogram2dcontour\":[{\"type\":\"histogram2dcontour\",\"colorbar\":{\"outlinewidth\":0,\"ticks\":\"\"},\"colorscale\":[[0.0,\"#0d0887\"],[0.1111111111111111,\"#46039f\"],[0.2222222222222222,\"#7201a8\"],[0.3333333333333333,\"#9c179e\"],[0.4444444444444444,\"#bd3786\"],[0.5555555555555556,\"#d8576b\"],[0.6666666666666666,\"#ed7953\"],[0.7777777777777778,\"#fb9f3a\"],[0.8888888888888888,\"#fdca26\"],[1.0,\"#f0f921\"]]}],\"choropleth\":[{\"type\":\"choropleth\",\"colorbar\":{\"outlinewidth\":0,\"ticks\":\"\"}}],\"histogram2d\":[{\"type\":\"histogram2d\",\"colorbar\":{\"outlinewidth\":0,\"ticks\":\"\"},\"colorscale\":[[0.0,\"#0d0887\"],[0.1111111111111111,\"#46039f\"],[0.2222222222222222,\"#7201a8\"],[0.3333333333333333,\"#9c179e\"],[0.4444444444444444,\"#bd3786\"],[0.5555555555555556,\"#d8576b\"],[0.6666666666666666,\"#ed7953\"],[0.7777777777777778,\"#fb9f3a\"],[0.8888888888888888,\"#fdca26\"],[1.0,\"#f0f921\"]]}],\"heatmap\":[{\"type\":\"heatmap\",\"colorbar\":{\"outlinewidth\":0,\"ticks\":\"\"},\"colorscale\":[[0.0,\"#0d0887\"],[0.1111111111111111,\"#46039f\"],[0.2222222222222222,\"#7201a8\"],[0.3333333333333333,\"#9c179e\"],[0.4444444444444444,\"#bd3786\"],[0.5555555555555556,\"#d8576b\"],[0.6666666666666666,\"#ed7953\"],[0.7777777777777778,\"#fb9f3a\"],[0.8888888888888888,\"#fdca26\"],[1.0,\"#f0f921\"]]}],\"heatmapgl\":[{\"type\":\"heatmapgl\",\"colorbar\":{\"outlinewidth\":0,\"ticks\":\"\"},\"colorscale\":[[0.0,\"#0d0887\"],[0.1111111111111111,\"#46039f\"],[0.2222222222222222,\"#7201a8\"],[0.3333333333333333,\"#9c179e\"],[0.4444444444444444,\"#bd3786\"],[0.5555555555555556,\"#d8576b\"],[0.6666666666666666,\"#ed7953\"],[0.7777777777777778,\"#fb9f3a\"],[0.8888888888888888,\"#fdca26\"],[1.0,\"#f0f921\"]]}],\"contourcarpet\":[{\"type\":\"contourcarpet\",\"colorbar\":{\"outlinewidth\":0,\"ticks\":\"\"}}],\"contour\":[{\"type\":\"contour\",\"colorbar\":{\"outlinewidth\":0,\"ticks\":\"\"},\"colorscale\":[[0.0,\"#0d0887\"],[0.1111111111111111,\"#46039f\"],[0.2222222222222222,\"#7201a8\"],[0.3333333333333333,\"#9c179e\"],[0.4444444444444444,\"#bd3786\"],[0.5555555555555556,\"#d8576b\"],[0.6666666666666666,\"#ed7953\"],[0.7777777777777778,\"#fb9f3a\"],[0.8888888888888888,\"#fdca26\"],[1.0,\"#f0f921\"]]}],\"surface\":[{\"type\":\"surface\",\"colorbar\":{\"outlinewidth\":0,\"ticks\":\"\"},\"colorscale\":[[0.0,\"#0d0887\"],[0.1111111111111111,\"#46039f\"],[0.2222222222222222,\"#7201a8\"],[0.3333333333333333,\"#9c179e\"],[0.4444444444444444,\"#bd3786\"],[0.5555555555555556,\"#d8576b\"],[0.6666666666666666,\"#ed7953\"],[0.7777777777777778,\"#fb9f3a\"],[0.8888888888888888,\"#fdca26\"],[1.0,\"#f0f921\"]]}],\"mesh3d\":[{\"type\":\"mesh3d\",\"colorbar\":{\"outlinewidth\":0,\"ticks\":\"\"}}],\"scatter\":[{\"fillpattern\":{\"fillmode\":\"overlay\",\"size\":10,\"solidity\":0.2},\"type\":\"scatter\"}],\"parcoords\":[{\"type\":\"parcoords\",\"line\":{\"colorbar\":{\"outlinewidth\":0,\"ticks\":\"\"}}}],\"scatterpolargl\":[{\"type\":\"scatterpolargl\",\"marker\":{\"colorbar\":{\"outlinewidth\":0,\"ticks\":\"\"}}}],\"bar\":[{\"error_x\":{\"color\":\"#2a3f5f\"},\"error_y\":{\"color\":\"#2a3f5f\"},\"marker\":{\"line\":{\"color\":\"#E5ECF6\",\"width\":0.5},\"pattern\":{\"fillmode\":\"overlay\",\"size\":10,\"solidity\":0.2}},\"type\":\"bar\"}],\"scattergeo\":[{\"type\":\"scattergeo\",\"marker\":{\"colorbar\":{\"outlinewidth\":0,\"ticks\":\"\"}}}],\"scatterpolar\":[{\"type\":\"scatterpolar\",\"marker\":{\"colorbar\":{\"outlinewidth\":0,\"ticks\":\"\"}}}],\"histogram\":[{\"marker\":{\"pattern\":{\"fillmode\":\"overlay\",\"size\":10,\"solidity\":0.2}},\"type\":\"histogram\"}],\"scattergl\":[{\"type\":\"scattergl\",\"marker\":{\"colorbar\":{\"outlinewidth\":0,\"ticks\":\"\"}}}],\"scatter3d\":[{\"type\":\"scatter3d\",\"line\":{\"colorbar\":{\"outlinewidth\":0,\"ticks\":\"\"}},\"marker\":{\"colorbar\":{\"outlinewidth\":0,\"ticks\":\"\"}}}],\"scattermapbox\":[{\"type\":\"scattermapbox\",\"marker\":{\"colorbar\":{\"outlinewidth\":0,\"ticks\":\"\"}}}],\"scatterternary\":[{\"type\":\"scatterternary\",\"marker\":{\"colorbar\":{\"outlinewidth\":0,\"ticks\":\"\"}}}],\"scattercarpet\":[{\"type\":\"scattercarpet\",\"marker\":{\"colorbar\":{\"outlinewidth\":0,\"ticks\":\"\"}}}],\"carpet\":[{\"aaxis\":{\"endlinecolor\":\"#2a3f5f\",\"gridcolor\":\"white\",\"linecolor\":\"white\",\"minorgridcolor\":\"white\",\"startlinecolor\":\"#2a3f5f\"},\"baxis\":{\"endlinecolor\":\"#2a3f5f\",\"gridcolor\":\"white\",\"linecolor\":\"white\",\"minorgridcolor\":\"white\",\"startlinecolor\":\"#2a3f5f\"},\"type\":\"carpet\"}],\"table\":[{\"cells\":{\"fill\":{\"color\":\"#EBF0F8\"},\"line\":{\"color\":\"white\"}},\"header\":{\"fill\":{\"color\":\"#C8D4E3\"},\"line\":{\"color\":\"white\"}},\"type\":\"table\"}],\"barpolar\":[{\"marker\":{\"line\":{\"color\":\"#E5ECF6\",\"width\":0.5},\"pattern\":{\"fillmode\":\"overlay\",\"size\":10,\"solidity\":0.2}},\"type\":\"barpolar\"}],\"pie\":[{\"automargin\":true,\"type\":\"pie\"}]},\"layout\":{\"autotypenumbers\":\"strict\",\"colorway\":[\"#636efa\",\"#EF553B\",\"#00cc96\",\"#ab63fa\",\"#FFA15A\",\"#19d3f3\",\"#FF6692\",\"#B6E880\",\"#FF97FF\",\"#FECB52\"],\"font\":{\"color\":\"#2a3f5f\"},\"hovermode\":\"closest\",\"hoverlabel\":{\"align\":\"left\"},\"paper_bgcolor\":\"white\",\"plot_bgcolor\":\"#E5ECF6\",\"polar\":{\"bgcolor\":\"#E5ECF6\",\"angularaxis\":{\"gridcolor\":\"white\",\"linecolor\":\"white\",\"ticks\":\"\"},\"radialaxis\":{\"gridcolor\":\"white\",\"linecolor\":\"white\",\"ticks\":\"\"}},\"ternary\":{\"bgcolor\":\"#E5ECF6\",\"aaxis\":{\"gridcolor\":\"white\",\"linecolor\":\"white\",\"ticks\":\"\"},\"baxis\":{\"gridcolor\":\"white\",\"linecolor\":\"white\",\"ticks\":\"\"},\"caxis\":{\"gridcolor\":\"white\",\"linecolor\":\"white\",\"ticks\":\"\"}},\"coloraxis\":{\"colorbar\":{\"outlinewidth\":0,\"ticks\":\"\"}},\"colorscale\":{\"sequential\":[[0.0,\"#0d0887\"],[0.1111111111111111,\"#46039f\"],[0.2222222222222222,\"#7201a8\"],[0.3333333333333333,\"#9c179e\"],[0.4444444444444444,\"#bd3786\"],[0.5555555555555556,\"#d8576b\"],[0.6666666666666666,\"#ed7953\"],[0.7777777777777778,\"#fb9f3a\"],[0.8888888888888888,\"#fdca26\"],[1.0,\"#f0f921\"]],\"sequentialminus\":[[0.0,\"#0d0887\"],[0.1111111111111111,\"#46039f\"],[0.2222222222222222,\"#7201a8\"],[0.3333333333333333,\"#9c179e\"],[0.4444444444444444,\"#bd3786\"],[0.5555555555555556,\"#d8576b\"],[0.6666666666666666,\"#ed7953\"],[0.7777777777777778,\"#fb9f3a\"],[0.8888888888888888,\"#fdca26\"],[1.0,\"#f0f921\"]],\"diverging\":[[0,\"#8e0152\"],[0.1,\"#c51b7d\"],[0.2,\"#de77ae\"],[0.3,\"#f1b6da\"],[0.4,\"#fde0ef\"],[0.5,\"#f7f7f7\"],[0.6,\"#e6f5d0\"],[0.7,\"#b8e186\"],[0.8,\"#7fbc41\"],[0.9,\"#4d9221\"],[1,\"#276419\"]]},\"xaxis\":{\"gridcolor\":\"white\",\"linecolor\":\"white\",\"ticks\":\"\",\"title\":{\"standoff\":15},\"zerolinecolor\":\"white\",\"automargin\":true,\"zerolinewidth\":2},\"yaxis\":{\"gridcolor\":\"white\",\"linecolor\":\"white\",\"ticks\":\"\",\"title\":{\"standoff\":15},\"zerolinecolor\":\"white\",\"automargin\":true,\"zerolinewidth\":2},\"scene\":{\"xaxis\":{\"backgroundcolor\":\"#E5ECF6\",\"gridcolor\":\"white\",\"linecolor\":\"white\",\"showbackground\":true,\"ticks\":\"\",\"zerolinecolor\":\"white\",\"gridwidth\":2},\"yaxis\":{\"backgroundcolor\":\"#E5ECF6\",\"gridcolor\":\"white\",\"linecolor\":\"white\",\"showbackground\":true,\"ticks\":\"\",\"zerolinecolor\":\"white\",\"gridwidth\":2},\"zaxis\":{\"backgroundcolor\":\"#E5ECF6\",\"gridcolor\":\"white\",\"linecolor\":\"white\",\"showbackground\":true,\"ticks\":\"\",\"zerolinecolor\":\"white\",\"gridwidth\":2}},\"shapedefaults\":{\"line\":{\"color\":\"#2a3f5f\"}},\"annotationdefaults\":{\"arrowcolor\":\"#2a3f5f\",\"arrowhead\":0,\"arrowwidth\":1},\"geo\":{\"bgcolor\":\"white\",\"landcolor\":\"#E5ECF6\",\"subunitcolor\":\"white\",\"showland\":true,\"showlakes\":true,\"lakecolor\":\"white\"},\"title\":{\"x\":0.05},\"mapbox\":{\"style\":\"light\"}}}},                        {\"responsive\": true}                    ).then(function(){\n",
       "                            \n",
       "var gd = document.getElementById('07b983a6-7b16-4c70-8012-2f66286243f9');\n",
       "var x = new MutationObserver(function (mutations, observer) {{\n",
       "        var display = window.getComputedStyle(gd).display;\n",
       "        if (!display || display === 'none') {{\n",
       "            console.log([gd, 'removed!']);\n",
       "            Plotly.purge(gd);\n",
       "            observer.disconnect();\n",
       "        }}\n",
       "}});\n",
       "\n",
       "// Listen for the removal of the full notebook cells\n",
       "var notebookContainer = gd.closest('#notebook-container');\n",
       "if (notebookContainer) {{\n",
       "    x.observe(notebookContainer, {childList: true});\n",
       "}}\n",
       "\n",
       "// Listen for the clearing of the current output cell\n",
       "var outputEl = gd.closest('.output');\n",
       "if (outputEl) {{\n",
       "    x.observe(outputEl, {childList: true});\n",
       "}}\n",
       "\n",
       "                        })                };                            </script>        </div>\n",
       "</body>\n",
       "</html>"
      ]
     },
     "metadata": {},
     "output_type": "display_data"
    }
   ],
   "source": [
    "# @title Plot 3D MDS with Plotly\n",
    "# This section uses Plotly to create an interactive 3D scatter plot of the MDS coordinates.\n",
    "import plotly.graph_objs as go\n",
    "\n",
    "trace = go.Scatter3d(\n",
    "    x=coords_test[:, 0],\n",
    "    y=coords_test[:, 1],\n",
    "    z=coords_test[:, 2],\n",
    "    mode='markers+text',\n",
    "    text=labels,\n",
    "    textposition='top center',\n",
    "    marker=dict(\n",
    "        size=6,\n",
    "        color=[color_dict.get(label, 'gray') if label != 'era5' else 'black' for label in labels]\n",
    "    )\n",
    ")\n",
    "\n",
    "layout = go.Layout(\n",
    "    title='3D MDS of Pairwise RMSE (72h Lead Time)',\n",
    "    scene=dict(\n",
    "        xaxis_title='Dimension 1',\n",
    "        yaxis_title='Dimension 2',\n",
    "        zaxis_title='Dimension 3'\n",
    "    )\n",
    ")\n",
    "\n",
    "fig = go.Figure(data=[trace], layout=layout)\n",
    "fig.show()\n"
   ]
  },
  {
   "cell_type": "code",
   "execution_count": null,
   "metadata": {
    "colab": {
     "base_uri": "https://localhost:8080/",
     "height": 633
    },
    "executionInfo": {
     "elapsed": 245,
     "status": "ok",
     "timestamp": 1749308679907,
     "user": {
      "displayName": "Josiah Kiarie KIMANI",
      "userId": "14842758841059902092"
     },
     "user_tz": -120
    },
    "id": "nVPKrWpYCj2V",
    "outputId": "baf4a83f-0912-495d-a200-9ee6caaf34bb"
   },
   "outputs": [
    {
     "data": {
      "image/png": "[encoded data removed]",
      "text/plain": [
       "<Figure size 800x600 with 1 Axes>"
      ]
     },
     "metadata": {},
     "output_type": "display_data"
    }
   ],
   "source": [
    "# @title Create the dendrogram plot\n",
    "# This section creates a dendrogram plot using hierarchical clustering on the pairwise RMSE results for the 3D MDS coordinates.\n",
    "# Convert the DataFrame to a NumPy array\n",
    "distance_matrix = pairwise_rmse_result_test.values\n",
    "\n",
    "# If your RMSE matrix is symmetric and represents distances,\n",
    "# convert it to a condensed distance matrix\n",
    "condensed_distance = squareform(distance_matrix)\n",
    "\n",
    "# Compute the linkage matrix using a method of your choice (e.g., 'average')\n",
    "Z = linkage(condensed_distance, method='average')\n",
    "\n",
    "# Create the dendrogram plot\n",
    "plt.rcParams['axes.titlesize'] = 12\n",
    "plt.rcParams['axes.labelsize'] = 12\n",
    "plt.rcParams['xtick.labelsize'] = 10\n",
    "plt.rcParams['ytick.labelsize'] = 10\n",
    "plt.figure(figsize=(8, 6))\n",
    "\n",
    "# plt.figure(figsize=(12, 8))\n",
    "dendrogram(Z, labels=pairwise_rmse_result_test.index, leaf_rotation=90)\n",
    "plt.title('Hierarchical Clustering Dendrogram of Pairwise RMSE of Models(72h Lead Time)')\n",
    "plt.xlabel('Models over 72hours lead time')\n",
    "plt.ylabel('Distance')\n",
    "plt.xticks(rotation=45, ha='right')  # Rotate x-axis labels 45° and align right\n",
    "\n",
    "\n",
    "plt.savefig(data_drive_plot+f'Hierarchical Clustering Dendrogram of Pairwise RMSE of Models(72h Lead Time).pdf', dpi=300, bbox_inches=\"tight\")\n",
    "\n",
    "plt.show()\n"
   ]
  },
  {
   "cell_type": "code",
   "execution_count": null,
   "metadata": {
    "colab": {
     "base_uri": "https://localhost:8080/",
     "height": 653
    },
    "executionInfo": {
     "elapsed": 552,
     "status": "ok",
     "timestamp": 1749308686201,
     "user": {
      "displayName": "Josiah Kiarie KIMANI",
      "userId": "14842758841059902092"
     },
     "user_tz": -120
    },
    "id": "dm2_yovgk_0n",
    "outputId": "2630697f-9a36-46e4-d470-1b909b42409f"
   },
   "outputs": [
    {
     "name": "stdout",
     "output_type": "stream",
     "text": [
      "Components= 1: Stress=0.4834428152292752\n",
      "Components= 2: Stress=0.2150907673602808\n",
      "Components= 3: Stress=0.10312343478305917\n",
      "Components= 4: Stress=0.001121849906457741\n",
      "Components= 5: Stress=0.0011219742709859888\n",
      "Components= 6: Stress=0.0011106239873135107\n",
      "Components= 7: Stress=0.0011916217999058776\n",
      "Components= 8: Stress=0.001059646853567836\n",
      "Components= 9: Stress=0.001253361939383478\n",
      "Components= 10: Stress=0.0011675854162128477\n"
     ]
    },
    {
     "data": {
      "image/png": "[encoded data removed]",
      "text/plain": [
       "<Figure size 640x480 with 1 Axes>"
      ]
     },
     "metadata": {},
     "output_type": "display_data"
    }
   ],
   "source": [
    "# @title Investigating the number of components with the least normalized stress\n",
    "# This section investigates the number of components in MDS that yield the least normalized stress.\n",
    "dims = list(range(1, 11))\n",
    "stresses = []\n",
    "\n",
    "for p in dims:\n",
    "    mds_stress_1 = MDS(n_components=p, metric=True, n_init=4, max_iter=300, eps=1e-6,\n",
    "                   n_jobs=-1,random_state=2,\n",
    "                   dissimilarity='precomputed', normalized_stress=True\n",
    "                   )\n",
    "    coords_stress_1 = mds_stress_1.fit_transform(distance_matrix)\n",
    "    print(f'Components= {p}: Stress={mds_stress_1.stress_}')\n",
    "    stresses.append(mds_stress_1.stress_)\n",
    "\n",
    "plt.plot(dims, stresses, marker='o')\n",
    "plt.xlabel(\"Number of Dimensions\")\n",
    "plt.ylabel(\"Normalized Stress\")\n",
    "plt.title(\"Stress vs Dimensionality (Metric MDS)\")\n",
    "plt.grid(True)\n",
    "plt.show()"
   ]
  }
 ],
 "metadata": {
  "colab": {
   "provenance": []
  },
  "kernelspec": {
   "display_name": "Python 3",
   "name": "python3"
  },
  "language_info": {
   "name": "python"
  }
 },
 "nbformat": 4,
 "nbformat_minor": 0
}
